{
  "nbformat": 4,
  "nbformat_minor": 0,
  "metadata": {
    "colab": {
      "name": "1-seq2seq.ipynb",
      "version": "0.3.2",
      "provenance": []
    },
    "kernelspec": {
      "display_name": "Python 3",
      "language": "python",
      "name": "python3"
    }
  },
  "cells": [
    {
      "metadata": {
        "id": "Oob8aZSXcQHd",
        "colab_type": "text"
      },
      "cell_type": "markdown",
      "source": [
        "# Simple dynamic seq2seq with TensorFlow"
      ]
    },
    {
      "metadata": {
        "id": "C0rEeGNwcQHj",
        "colab_type": "text"
      },
      "cell_type": "markdown",
      "source": [
        "This tutorial covers building seq2seq using dynamic unrolling with TensorFlow. \n",
        "\n",
        "I wasn't able to find any existing implementation of dynamic seq2seq with TF (as of 01.01.2017), so I decided to learn how to write my own, and document what I learn in the process.\n",
        "\n",
        "I deliberately try to be as explicit as possible. As it currently stands, TF code is the best source of documentation on itself, and I have a feeling that many conventions and design decisions are not documented anywhere except in the brains of Google Brain engineers. \n",
        "\n",
        "I hope this will be useful to people whose brains are wired like mine.\n",
        "\n",
        "**UPDATE**: as of r1.0 @ 16.02.2017, there is new official implementation in `tf.contrib.seq2seq`. See [tutorial #3](3-seq2seq-native-new.ipynb). Official tutorial reportedly be up soon. Personally I still find wiring dynamic encoder-decoder by hand insightful in many ways."
      ]
    },
    {
      "metadata": {
        "id": "LmVhNoi6cQHl",
        "colab_type": "text"
      },
      "cell_type": "markdown",
      "source": [
        "Here we implement plain seq2seq — forward-only encoder + decoder without attention. I'll try to follow closely the original architecture described in [Sutskever, Vinyals and Le (2014)](https://arxiv.org/abs/1409.3215). If you notice any deviations, please let me know."
      ]
    },
    {
      "metadata": {
        "id": "MhUBR1kucQHn",
        "colab_type": "text"
      },
      "cell_type": "markdown",
      "source": [
        "Architecture diagram from their paper:\n",
        "![seq2seq architecutre](https://github.com/shaabhishek/tensorflow-seq2seq-tutorials/blob/master/pictures/1-seq2seq.png?raw=1)\n",
        "Rectangles are encoder and decoder's recurrent layers. Encoder receives `[A, B, C]` sequence as inputs. We don't care about encoder outputs, only about the hidden state it accumulates while reading the sequence. After input sequence ends, encoder passes its final state to decoder, which receives `[<EOS>, W, X, Y, Z]` and is trained to output `[W, X, Y, Z, <EOS>]`. `<EOS>` token is a special word in vocabulary that signals to decoder the beginning of translation."
      ]
    },
    {
      "metadata": {
        "id": "b8xP4mxqcQHo",
        "colab_type": "text"
      },
      "cell_type": "markdown",
      "source": [
        "## Implementation details\n",
        "\n",
        "TensorFlow has its own [implementation of seq2seq](https://www.tensorflow.org/tutorials/seq2seq/). Recently it was moved from core examples to [`tensorflow/models` repo](https://github.com/tensorflow/models/tree/master/tutorials/rnn/translate), and uses deprecated seq2seq implementation. Deprecation happened because it uses **static unrolling**.\n",
        "\n",
        "**Static unrolling** involves construction of computation graph with a fixed sequence of time step. Such a graph can only handle sequences of specific lengths. One solution for handling sequences of varying lengths is to create multiple graphs with different time lengths and separate the dataset into this buckets.\n",
        "\n",
        "**Dynamic unrolling** instead uses control flow ops to process sequence step by step. In TF this is supposed to more space efficient and just as fast. This is now a recommended way to implement RNNs."
      ]
    },
    {
      "metadata": {
        "id": "0Lkfhm0mcQHq",
        "colab_type": "text"
      },
      "cell_type": "markdown",
      "source": [
        "## Vocabulary\n",
        "\n",
        "Seq2seq maps sequence onto another sequence. Both sequences consist of integers from a fixed range. In language tasks, integers usually correspond to words: we first construct a vocabulary by assigning to every word in our corpus a serial integer. First few integers are reserved for special tokens. We'll call the upper bound on vocabulary a `vocabulary size`.\n",
        "\n",
        "Input data consists of sequences of integers."
      ]
    },
    {
      "metadata": {
        "id": "vTsSNrufcQHr",
        "colab_type": "code",
        "colab": {
          "base_uri": "https://localhost:8080/",
          "height": 17
        },
        "outputId": "347916ac-4516-4db8-bf21-2d96784deb7e"
      },
      "cell_type": "code",
      "source": [
        "x = [[5, 7, 8], [6, 3], [3], [1]]"
      ],
      "execution_count": 2,
      "outputs": []
    },
    {
      "metadata": {
        "id": "vrPwsp2xcQHx",
        "colab_type": "text"
      },
      "cell_type": "markdown",
      "source": [
        "While manipulating such variable-length lists are convenient to humans, RNNs prefer a different layout:"
      ]
    },
    {
      "metadata": {
        "id": "j6Qa4y07cSq4",
        "colab_type": "code",
        "colab": {
          "base_uri": "https://localhost:8080/",
          "height": 17
        },
        "outputId": "557b864e-4c38-4e8e-a9fc-3ce2e574e128"
      },
      "cell_type": "code",
      "source": [
        "#Helpers\n",
        "import numpy as np\n",
        "\n",
        "def batch(inputs, max_sequence_length=None):\n",
        "    \"\"\"\n",
        "    Args:\n",
        "        inputs:\n",
        "            list of sentences (integer lists)\n",
        "        max_sequence_length:\n",
        "            integer specifying how large should `max_time` dimension be.\n",
        "            If None, maximum sequence length would be used\n",
        "    \n",
        "    Outputs:\n",
        "        inputs_time_major:\n",
        "            input sentences transformed into time-major matrix \n",
        "            (shape [max_time, batch_size]) padded with 0s\n",
        "        sequence_lengths:\n",
        "            batch-sized list of integers specifying amount of active \n",
        "            time steps in each input sequence\n",
        "    \"\"\"\n",
        "    \n",
        "    sequence_lengths = [len(seq) for seq in inputs]\n",
        "    batch_size = len(inputs)\n",
        "    \n",
        "    if max_sequence_length is None:\n",
        "        max_sequence_length = max(sequence_lengths)\n",
        "    \n",
        "    inputs_batch_major = np.zeros(shape=[batch_size, max_sequence_length], dtype=np.int32) # == PAD\n",
        "    \n",
        "    for i, seq in enumerate(inputs):\n",
        "        for j, element in enumerate(seq):\n",
        "            inputs_batch_major[i, j] = element\n",
        "\n",
        "    # [batch_size, max_time] -> [max_time, batch_size]\n",
        "    inputs_time_major = inputs_batch_major.swapaxes(0, 1)\n",
        "\n",
        "    return inputs_time_major, sequence_lengths\n",
        "  \n",
        "  \n",
        "def random_sequences(length_from, length_to, vocab_lower, vocab_upper, batch_size):\n",
        "  \"\"\" Generates batches of random integer sequences,\n",
        "          sequence length in [length_from, length_to],\n",
        "          vocabulary in [vocab_lower, vocab_upper]\n",
        "  \"\"\"\n",
        "  if length_from > length_to:\n",
        "    raise ValueError('length_from > length_to')\n",
        "\n",
        "  def random_length():\n",
        "      if length_from == length_to:\n",
        "          return length_from\n",
        "      return np.random.randint(length_from, length_to + 1)\n",
        "\n",
        "  while True:\n",
        "      yield [\n",
        "          np.random.randint(low=vocab_lower,\n",
        "                            high=vocab_upper,\n",
        "                            size=random_length()).tolist()\n",
        "          for _ in range(batch_size)\n",
        "      ]"
      ],
      "execution_count": 31,
      "outputs": []
    },
    {
      "metadata": {
        "id": "v2Om9F77cQHz",
        "colab_type": "code",
        "colab": {
          "base_uri": "https://localhost:8080/",
          "height": 17
        },
        "outputId": "715b8712-eb69-49c5-96a0-c6325e995cca"
      },
      "cell_type": "code",
      "source": [
        "xt, xlen = batch(x)"
      ],
      "execution_count": 4,
      "outputs": []
    },
    {
      "metadata": {
        "id": "qcdH2WaYcQH4",
        "colab_type": "code",
        "colab": {
          "base_uri": "https://localhost:8080/",
          "height": 34
        },
        "outputId": "81c1c0de-30ce-4667-f208-ee0b4fc9ee65"
      },
      "cell_type": "code",
      "source": [
        "x"
      ],
      "execution_count": 5,
      "outputs": [
        {
          "output_type": "execute_result",
          "data": {
            "text/plain": [
              "[[5, 7, 8], [6, 3], [3], [1]]"
            ]
          },
          "metadata": {
            "tags": []
          },
          "execution_count": 5
        }
      ]
    },
    {
      "metadata": {
        "id": "kRgmciRNcQH_",
        "colab_type": "code",
        "colab": {
          "base_uri": "https://localhost:8080/",
          "height": 68
        },
        "outputId": "c1023dd5-6c1b-478b-9a02-4e112ac2a2be"
      },
      "cell_type": "code",
      "source": [
        "xt"
      ],
      "execution_count": 6,
      "outputs": [
        {
          "output_type": "execute_result",
          "data": {
            "text/plain": [
              "array([[5, 6, 3, 1],\n",
              "       [7, 3, 0, 0],\n",
              "       [8, 0, 0, 0]], dtype=int32)"
            ]
          },
          "metadata": {
            "tags": []
          },
          "execution_count": 6
        }
      ]
    },
    {
      "metadata": {
        "id": "UFg2gmBIcQIE",
        "colab_type": "text"
      },
      "cell_type": "markdown",
      "source": [
        "Sequences form columns of a matrix of size `[max_time, batch_size]`. Sequences shorter then the longest one are padded with zeros towards the end. This layout is called `time-major`. It is slightly more efficient then `batch-major`. We will use it for the rest of the tutorial."
      ]
    },
    {
      "metadata": {
        "id": "84BoiapNcQIG",
        "colab_type": "code",
        "colab": {
          "base_uri": "https://localhost:8080/",
          "height": 34
        },
        "outputId": "f40a9fc4-8157-4116-eb1f-2583f519b9a5"
      },
      "cell_type": "code",
      "source": [
        "xlen"
      ],
      "execution_count": 7,
      "outputs": [
        {
          "output_type": "execute_result",
          "data": {
            "text/plain": [
              "[3, 2, 1, 1]"
            ]
          },
          "metadata": {
            "tags": []
          },
          "execution_count": 7
        }
      ]
    },
    {
      "metadata": {
        "id": "xdr8cydJcQIL",
        "colab_type": "text"
      },
      "cell_type": "markdown",
      "source": [
        "For some forms of dynamic layout it is useful to have a pointer to terminals of every sequence in the batch in separate tensor (see following tutorials)."
      ]
    },
    {
      "metadata": {
        "id": "rU4XcNg_cQIL",
        "colab_type": "text"
      },
      "cell_type": "markdown",
      "source": [
        "# Building a model"
      ]
    },
    {
      "metadata": {
        "id": "yxd4mAVkcQIM",
        "colab_type": "text"
      },
      "cell_type": "markdown",
      "source": [
        "## Simple seq2seq"
      ]
    },
    {
      "metadata": {
        "id": "Cegnk7sMcQIO",
        "colab_type": "text"
      },
      "cell_type": "markdown",
      "source": [
        "Encoder starts with empty state and runs through the input sequence. We are not interested in encoder's outputs, only in its `final_state`.\n",
        "\n",
        "Decoder uses encoder's `final_state` as its `initial_state`. Its inputs are a batch-sized matrix with `<EOS>` token at the 1st time step and `<PAD>` at the following. This is a rather crude setup, useful only for tutorial purposes. In practice, we would like to feed previously generated tokens after `<EOS>`.\n",
        "\n",
        "Decoder's outputs are mapped onto the output space using `[hidden_units x output_vocab_size]` projection layer. This is necessary because we cannot make `hidden_units` of decoder arbitrarily large, while our target space would grow with the size of the dictionary.\n",
        "\n",
        "This kind of encoder-decoder is forced to learn fixed-length representation (specifically, `hidden_units` size) of the variable-length input sequence and restore output sequence only from this representation."
      ]
    },
    {
      "metadata": {
        "id": "BU9e7PX_cQIP",
        "colab_type": "code",
        "colab": {
          "base_uri": "https://localhost:8080/",
          "height": 71
        },
        "outputId": "173c43e7-cc6f-47ac-c135-ae1ebc4e4827"
      },
      "cell_type": "code",
      "source": [
        "import numpy as np\n",
        "import tensorflow as tf\n",
        "# import helpers\n",
        "\n",
        "tf.reset_default_graph()\n",
        "sess = tf.InteractiveSession()"
      ],
      "execution_count": 69,
      "outputs": [
        {
          "output_type": "stream",
          "text": [
            "/usr/local/lib/python3.6/dist-packages/tensorflow/python/client/session.py:1714: UserWarning: An interactive session is already active. This can cause out-of-memory errors in some cases. You must explicitly call `InteractiveSession.close()` to release resources held by the other session(s).\n",
            "  warnings.warn('An interactive session is already active. This can '\n"
          ],
          "name": "stderr"
        }
      ]
    },
    {
      "metadata": {
        "id": "sTEoGdphcQIT",
        "colab_type": "code",
        "colab": {
          "base_uri": "https://localhost:8080/",
          "height": 34
        },
        "outputId": "7d5c2758-bf34-421d-be1d-b9756532b496"
      },
      "cell_type": "code",
      "source": [
        "tf.__version__"
      ],
      "execution_count": 70,
      "outputs": [
        {
          "output_type": "execute_result",
          "data": {
            "text/plain": [
              "'1.9.0-rc2'"
            ]
          },
          "metadata": {
            "tags": []
          },
          "execution_count": 70
        }
      ]
    },
    {
      "metadata": {
        "id": "Q11yCdJQcQIY",
        "colab_type": "text"
      },
      "cell_type": "markdown",
      "source": [
        "### Model inputs and outputs "
      ]
    },
    {
      "metadata": {
        "id": "SRNT_427cQIZ",
        "colab_type": "text"
      },
      "cell_type": "markdown",
      "source": [
        "First critical thing to decide: vocabulary size.\n",
        "\n",
        "Dynamic RNN models can be adapted to different batch sizes and sequence lengths without retraining (e.g. by serializing model parameters and Graph definitions via `tf.train.Saver`), but changing vocabulary size requires retraining the model."
      ]
    },
    {
      "metadata": {
        "id": "fe0fdoVycQIa",
        "colab_type": "code",
        "colab": {
          "base_uri": "https://localhost:8080/",
          "height": 17
        },
        "outputId": "d9f025b7-5791-4309-da52-587bbd5ded1d"
      },
      "cell_type": "code",
      "source": [
        "PAD = 0\n",
        "EOS = 1\n",
        "\n",
        "vocab_size = 10\n",
        "input_embedding_size = 20\n",
        "\n",
        "encoder_hidden_units = 20\n",
        "decoder_hidden_units = encoder_hidden_units"
      ],
      "execution_count": 71,
      "outputs": []
    },
    {
      "metadata": {
        "id": "1r6y6whucQIe",
        "colab_type": "text"
      },
      "cell_type": "markdown",
      "source": [
        "Nice way to understand complicated function is to study its signature - inputs and outputs. With pure functions, only inputs-output relation matters.\n",
        "\n",
        "- `encoder_inputs` int32 tensor is shaped `[encoder_max_time, batch_size]`\n",
        "- `decoder_targets` int32 tensor is shaped `[decoder_max_time, batch_size]`"
      ]
    },
    {
      "metadata": {
        "id": "CojYeczecQIf",
        "colab_type": "code",
        "colab": {
          "base_uri": "https://localhost:8080/",
          "height": 17
        },
        "outputId": "921c61a5-720f-4e90-c814-167a9aa9bbb0"
      },
      "cell_type": "code",
      "source": [
        "encoder_inputs = tf.placeholder(shape=(None, None), dtype=tf.int32, name='encoder_inputs')\n",
        "decoder_targets = tf.placeholder(shape=(None, None), dtype=tf.int32, name='decoder_targets')"
      ],
      "execution_count": 72,
      "outputs": []
    },
    {
      "metadata": {
        "id": "0cWuIPz8cQIq",
        "colab_type": "text"
      },
      "cell_type": "markdown",
      "source": [
        "We'll add one additional placeholder tensor: \n",
        "- `decoder_inputs` int32 tensor is shaped `[decoder_max_time, batch_size]`"
      ]
    },
    {
      "metadata": {
        "id": "AJeMSbuScQIr",
        "colab_type": "code",
        "colab": {
          "base_uri": "https://localhost:8080/",
          "height": 17
        },
        "outputId": "abcebf98-f108-474f-a802-4c374da2f22f"
      },
      "cell_type": "code",
      "source": [
        "decoder_inputs = tf.placeholder(shape=(None, None), dtype=tf.int32, name='decoder_inputs')"
      ],
      "execution_count": 73,
      "outputs": []
    },
    {
      "metadata": {
        "id": "KBZYQYllcQIu",
        "colab_type": "text"
      },
      "cell_type": "markdown",
      "source": [
        "We actually don't want to feed `decoder_inputs` manually — they are a function of either `decoder_targets` or previous decoder outputs during rollout. However, there are different ways to construct them. It might be illustrative to explicitly specify them for out first seq2seq implementation.\n",
        "\n",
        "During training, `decoder_inputs` will consist of `<EOS>` token concatenated with `decoder_targets` along time axis. In this way, we always pass target sequence as the history to the decoder, regrardless of what it actually outputs predicts. This can introduce distribution shift from training to prediction. \n",
        "In prediction mode, model will receive tokens it previously generated (via argmax over logits), not the ground truth, which would be unknowable."
      ]
    },
    {
      "metadata": {
        "id": "1rX7DokycQIv",
        "colab_type": "text"
      },
      "cell_type": "markdown",
      "source": [
        "Notice that all shapes are specified with `None`s (dynamic). We can use batches of any size with any number of timesteps. This is convenient and efficient, however but there are obvious constraints: \n",
        "- Feed values for all tensors should have same `batch_size`\n",
        "- Decoder inputs and ouputs (`decoder_inputs` and `decoder_targets`) should have same `decoder_max_time`"
      ]
    },
    {
      "metadata": {
        "id": "EqGJcJPgcQIw",
        "colab_type": "text"
      },
      "cell_type": "markdown",
      "source": [
        "### Embeddings\n",
        "\n",
        "`encoder_inputs` and `decoder_inputs` are int32 tensors of shape `[max_time, batch_size]`, while encoder and decoder RNNs expect dense vector representation of words, `[max_time, batch_size, input_embedding_size]`. We convert one to another by using *word embeddings*. Specifics of working with embeddings are nicely described in [official tutorial on embeddings](https://www.tensorflow.org/tutorials/word2vec/)."
      ]
    },
    {
      "metadata": {
        "id": "2xoKlslwcQIx",
        "colab_type": "text"
      },
      "cell_type": "markdown",
      "source": [
        "First we initialize embedding matrix. Initializations are random. We rely on our end-to-end training to learn vector representations for words jointly with encoder and decoder."
      ]
    },
    {
      "metadata": {
        "id": "mAnlSdnecQIy",
        "colab_type": "code",
        "colab": {
          "base_uri": "https://localhost:8080/",
          "height": 17
        },
        "outputId": "12ac137b-a5ce-420f-9905-f04220ba41c9"
      },
      "cell_type": "code",
      "source": [
        "embeddings = tf.Variable(tf.random_uniform([vocab_size, input_embedding_size], -1.0, 1.0), dtype=tf.float32)"
      ],
      "execution_count": 74,
      "outputs": []
    },
    {
      "metadata": {
        "id": "i__S88m3cQI2",
        "colab_type": "text"
      },
      "cell_type": "markdown",
      "source": [
        "We use `tf.nn.embedding_lookup` to *index embedding matrix*: given word `4`, we represent it as 4th column of embedding matrix. \n",
        "This operation is lightweight, compared with alternative approach of one-hot encoding word `4` as `[0,0,0,1,0,0,0,0,0,0]` (vocab size 10) and then multiplying it by embedding matrix.\n",
        "\n",
        "Additionally, we don't need to compute gradients for any columns except 4th.\n",
        "\n",
        "Encoder and decoder will share embeddings. It's all words, right? Well, digits in this case. In real NLP application embedding matrix can get very large, with 100k or even 1m columns."
      ]
    },
    {
      "metadata": {
        "id": "lI5FW7L6cQI3",
        "colab_type": "code",
        "colab": {
          "base_uri": "https://localhost:8080/",
          "height": 17
        },
        "outputId": "b4545475-5ace-4fa4-e90f-1cf36d20ef1b"
      },
      "cell_type": "code",
      "source": [
        "encoder_inputs_embedded = tf.nn.embedding_lookup(embeddings, encoder_inputs)\n",
        "decoder_inputs_embedded = tf.nn.embedding_lookup(embeddings, decoder_inputs)"
      ],
      "execution_count": 75,
      "outputs": []
    },
    {
      "metadata": {
        "id": "7etnxM3tcQI-",
        "colab_type": "text"
      },
      "cell_type": "markdown",
      "source": [
        "### Encoder\n",
        "\n",
        "The centerpiece of all things RNN in TensorFlow is `RNNCell` class and its descendants (like `LSTMCell`). But they are outside of the scope of this post — nice [official tutorial](https://www.tensorflow.org/tutorials/recurrent/) is available. \n",
        "\n",
        "`@TODO: RNNCell as a factory`"
      ]
    },
    {
      "metadata": {
        "id": "9ODGVOAAcQI_",
        "colab_type": "code",
        "colab": {
          "base_uri": "https://localhost:8080/",
          "height": 17
        },
        "outputId": "ae46f37f-32b1-4caf-eb89-80ec1274f449"
      },
      "cell_type": "code",
      "source": [
        "encoder_cell = tf.contrib.rnn.LSTMCell(encoder_hidden_units)\n",
        "\n",
        "encoder_outputs, encoder_final_state = tf.nn.dynamic_rnn(\n",
        "    encoder_cell, encoder_inputs_embedded,\n",
        "    dtype=tf.float32, time_major=True,\n",
        ")\n",
        "\n",
        "del encoder_outputs"
      ],
      "execution_count": 76,
      "outputs": []
    },
    {
      "metadata": {
        "id": "HSBJG-J_cQJH",
        "colab_type": "text"
      },
      "cell_type": "markdown",
      "source": [
        "We discard `encoder_outputs` because we are not interested in them within seq2seq framework. What we actually want is `encoder_final_state` — state of LSTM's hidden cells at the last moment of the Encoder rollout.\n",
        "\n",
        "`encoder_final_state` is also called \"thought vector\". We will use it as initial state for the Decoder. In seq2seq without attention this is the only point where Encoder passes information to Decoder. We hope that backpropagation through time (BPTT) algorithm will tune the model to pass enough information throught the thought vector for correct sequence output decoding."
      ]
    },
    {
      "metadata": {
        "id": "P_pUpmkjcQJI",
        "colab_type": "code",
        "colab": {
          "base_uri": "https://localhost:8080/",
          "height": 54
        },
        "outputId": "7f385b60-2136-4c5f-9515-61bcf3085a35"
      },
      "cell_type": "code",
      "source": [
        "encoder_final_state"
      ],
      "execution_count": 77,
      "outputs": [
        {
          "output_type": "execute_result",
          "data": {
            "text/plain": [
              "LSTMStateTuple(c=<tf.Tensor 'rnn/while/Exit_3:0' shape=(?, 20) dtype=float32>, h=<tf.Tensor 'rnn/while/Exit_4:0' shape=(?, 20) dtype=float32>)"
            ]
          },
          "metadata": {
            "tags": []
          },
          "execution_count": 77
        }
      ]
    },
    {
      "metadata": {
        "id": "DObnjyJKcQJL",
        "colab_type": "text"
      },
      "cell_type": "markdown",
      "source": [
        "TensorFlow LSTM implementation stores state as a tuple of tensors. \n",
        "- `encoder_final_state.h` is activations of hidden layer of LSTM cell\n",
        "- `encoder_final_state.c` is final output, which can potentially be transfromed with some wrapper `@TODO: check correctness`"
      ]
    },
    {
      "metadata": {
        "id": "n_e1CQ3qcQJN",
        "colab_type": "text"
      },
      "cell_type": "markdown",
      "source": [
        "### Decoder"
      ]
    },
    {
      "metadata": {
        "id": "LBiEa447cQJO",
        "colab_type": "code",
        "colab": {
          "base_uri": "https://localhost:8080/",
          "height": 17
        },
        "outputId": "013f6683-85d0-4dca-e0ac-20c016e9b8f0"
      },
      "cell_type": "code",
      "source": [
        "decoder_cell = tf.contrib.rnn.LSTMCell(decoder_hidden_units)\n",
        "\n",
        "decoder_outputs, decoder_final_state = tf.nn.dynamic_rnn(\n",
        "    decoder_cell, decoder_inputs_embedded,\n",
        "\n",
        "    initial_state=encoder_final_state,\n",
        "\n",
        "    dtype=tf.float32, time_major=True, scope=\"plain_decoder\",\n",
        ")"
      ],
      "execution_count": 78,
      "outputs": []
    },
    {
      "metadata": {
        "id": "_ExuOrvucQJQ",
        "colab_type": "text"
      },
      "cell_type": "markdown",
      "source": [
        "Since we pass `encoder_final_state` as `initial_state` to the decoder, they should be compatible. This means the same cell type (`LSTMCell` in our case), the same amount of `hidden_units` and the same amount of layers (single layer). I suppose this can be relaxed if we additonally pass `encoder_final_state` through a one-layer MLP."
      ]
    },
    {
      "metadata": {
        "id": "arML1yoicQJR",
        "colab_type": "text"
      },
      "cell_type": "markdown",
      "source": [
        "With encoder, we were not interested in cells output. But decoder's outputs are what we actually after: we use them to get distribution over words of output sequence.\n",
        "\n",
        "At this point `decoder_cell` output is a `hidden_units` sized vector at every timestep. However, for training and prediction we need logits of size `vocab_size`. Reasonable thing would be to put linear layer (fully-connected layer without activation function) on top of LSTM output to get non-normalized logits. This layer is called projection layer by convention."
      ]
    },
    {
      "metadata": {
        "id": "5XZLSfslcQJS",
        "colab_type": "code",
        "colab": {
          "base_uri": "https://localhost:8080/",
          "height": 17
        },
        "outputId": "d727ca87-99db-48c3-94aa-a441eb944e90"
      },
      "cell_type": "code",
      "source": [
        "decoder_logits = tf.contrib.layers.linear(decoder_outputs, vocab_size)\n",
        "\n",
        "decoder_prediction = tf.argmax(decoder_logits, 2)"
      ],
      "execution_count": 79,
      "outputs": []
    },
    {
      "metadata": {
        "id": "jBOGX5JucQJV",
        "colab_type": "text"
      },
      "cell_type": "markdown",
      "source": [
        "### Optimizer"
      ]
    },
    {
      "metadata": {
        "id": "CqSgd7LZcQJX",
        "colab_type": "code",
        "colab": {
          "base_uri": "https://localhost:8080/",
          "height": 34
        },
        "outputId": "a314ff5e-fe32-4694-8a51-a47e1299ccd2"
      },
      "cell_type": "code",
      "source": [
        "decoder_logits"
      ],
      "execution_count": 80,
      "outputs": [
        {
          "output_type": "execute_result",
          "data": {
            "text/plain": [
              "<tf.Tensor 'fully_connected/BiasAdd:0' shape=(?, ?, 10) dtype=float32>"
            ]
          },
          "metadata": {
            "tags": []
          },
          "execution_count": 80
        }
      ]
    },
    {
      "metadata": {
        "id": "8vfCOBUGcQJb",
        "colab_type": "text"
      },
      "cell_type": "markdown",
      "source": [
        "RNN outputs tensor of shape `[max_time, batch_size, hidden_units]` which projection layer maps onto `[max_time, batch_size, vocab_size]`. `vocab_size` part of the shape is static, while `max_time` and `batch_size` is dynamic."
      ]
    },
    {
      "metadata": {
        "id": "VoMj7jL1cQJb",
        "colab_type": "code",
        "colab": {
          "base_uri": "https://localhost:8080/",
          "height": 17
        },
        "outputId": "dd444dbf-a80c-4007-c0db-9e2a06731214"
      },
      "cell_type": "code",
      "source": [
        "stepwise_cross_entropy = tf.nn.softmax_cross_entropy_with_logits_v2(\n",
        "    labels=tf.one_hot(decoder_targets, depth=vocab_size, dtype=tf.float32),\n",
        "    logits=decoder_logits,\n",
        ")\n",
        "\n",
        "loss = tf.reduce_mean(stepwise_cross_entropy)\n",
        "train_op = tf.train.AdamOptimizer().minimize(loss)"
      ],
      "execution_count": 81,
      "outputs": []
    },
    {
      "metadata": {
        "id": "kPT4sp0qcQJg",
        "colab_type": "code",
        "colab": {
          "base_uri": "https://localhost:8080/",
          "height": 17
        },
        "outputId": "615dd32f-a911-4e34-fa61-1fcb6e9168f3"
      },
      "cell_type": "code",
      "source": [
        "sess.run(tf.global_variables_initializer())"
      ],
      "execution_count": 82,
      "outputs": []
    },
    {
      "metadata": {
        "id": "8AmfHkAacQJj",
        "colab_type": "text"
      },
      "cell_type": "markdown",
      "source": [
        "### Test forward pass\n",
        "\n",
        "Did I say that deep learning is a game of shapes? When building a Graph, TF will throw errors when static shapes are not matching. However, mismatches between dynamic shapes are often only discovered when we try to run something through the graph.\n",
        "\n",
        "\n",
        "So let's try running something. For that we need to prepare values we will feed into placeholders."
      ]
    },
    {
      "metadata": {
        "id": "qBUy1a8ScQJm",
        "colab_type": "text"
      },
      "cell_type": "markdown",
      "source": [
        "```\n",
        "this is key part where everything comes together\n",
        "\n",
        "@TODO: describe\n",
        "- how encoder shape is fixed to max\n",
        "- how decoder shape is arbitraty and determined by inputs, but should probably be longer then encoder's\n",
        "- how decoder input values are also arbitraty, and how we use GO token, and what are those 0s, and what can be used instead (shifted gold sequence, beam search)\n",
        "@TODO: add references\n",
        "```"
      ]
    },
    {
      "metadata": {
        "id": "p9JB88tKcQJo",
        "colab_type": "code",
        "colab": {
          "base_uri": "https://localhost:8080/",
          "height": 255
        },
        "outputId": "4e94969b-f3b0-4474-c464-2c5b6f03b7af"
      },
      "cell_type": "code",
      "source": [
        "batch_ = [[6], [3, 4], [9, 8, 7]]\n",
        "\n",
        "batch_, batch_length_ = batch(batch_)\n",
        "print('batch_encoded:\\n' + str(batch_))\n",
        "\n",
        "din_, dlen_ = batch(np.ones(shape=(3, 1), dtype=np.int32),\n",
        "                            max_sequence_length=4)\n",
        "print('decoder inputs:\\n' + str(din_))\n",
        "\n",
        "pred_ = sess.run(decoder_prediction,\n",
        "    feed_dict={\n",
        "        encoder_inputs: batch_,\n",
        "        decoder_inputs: din_,\n",
        "    })\n",
        "print('decoder predictions:\\n' + str(pred_))"
      ],
      "execution_count": 83,
      "outputs": [
        {
          "output_type": "stream",
          "text": [
            "batch_encoded:\n",
            "[[6 3 9]\n",
            " [0 4 8]\n",
            " [0 0 7]]\n",
            "decoder inputs:\n",
            "[[1 1 1]\n",
            " [0 0 0]\n",
            " [0 0 0]\n",
            " [0 0 0]]\n",
            "decoder predictions:\n",
            "[[2 2 8]\n",
            " [0 8 6]\n",
            " [6 6 6]\n",
            " [6 6 6]]\n"
          ],
          "name": "stdout"
        }
      ]
    },
    {
      "metadata": {
        "id": "1idJ4qc7cQJt",
        "colab_type": "text"
      },
      "cell_type": "markdown",
      "source": [
        "Successful forward computation, everything is wired correctly."
      ]
    },
    {
      "metadata": {
        "id": "vXScc7RbcQJt",
        "colab_type": "text"
      },
      "cell_type": "markdown",
      "source": [
        "## Training on the toy task"
      ]
    },
    {
      "metadata": {
        "id": "o26j3yThcQJu",
        "colab_type": "text"
      },
      "cell_type": "markdown",
      "source": [
        "We will teach our model to memorize and reproduce input sequence. Sequences will be random, with varying length.\n",
        "\n",
        "Since random sequences do not contain any structure, model will not be able to exploit any patterns in data. It will simply encode sequence in a thought vector, then decode from it."
      ]
    },
    {
      "metadata": {
        "id": "9dt8cS_jcQJw",
        "colab_type": "code",
        "colab": {
          "base_uri": "https://localhost:8080/",
          "height": 204
        },
        "outputId": "8fdd3eeb-c53b-46dd-f51f-0b589b32fd52"
      },
      "cell_type": "code",
      "source": [
        "batch_size = 100\n",
        "\n",
        "batches = random_sequences(length_from=3, length_to=8,\n",
        "                                   vocab_lower=2, vocab_upper=10,\n",
        "                                   batch_size=batch_size)\n",
        "\n",
        "print('head of the batch:')\n",
        "for seq in next(batches)[:10]:\n",
        "    print(seq)"
      ],
      "execution_count": 84,
      "outputs": [
        {
          "output_type": "stream",
          "text": [
            "head of the batch:\n",
            "[8, 3, 5, 8, 5, 3, 5, 5]\n",
            "[6, 3, 4]\n",
            "[7, 8, 8]\n",
            "[4, 3, 4, 9, 8, 2, 9]\n",
            "[4, 6, 7, 2, 7, 4]\n",
            "[9, 3, 7, 4, 4, 3, 3, 3]\n",
            "[6, 8, 6, 4, 2, 4, 2, 2]\n",
            "[8, 7, 3, 9, 5, 9, 8, 9]\n",
            "[6, 2, 8, 6]\n",
            "[3, 3, 2, 3]\n"
          ],
          "name": "stdout"
        }
      ]
    },
    {
      "metadata": {
        "id": "P-zuNBBJcQJ2",
        "colab_type": "code",
        "colab": {
          "base_uri": "https://localhost:8080/",
          "height": 17
        },
        "outputId": "a322516d-99c5-4464-c490-1cf1cab74ce5"
      },
      "cell_type": "code",
      "source": [
        "def next_feed():\n",
        "    batch_ = next(batches)\n",
        "    encoder_inputs_, _ = batch(batch_)\n",
        "    decoder_targets_, _ = batch(\n",
        "        [(sequence) + [EOS] for sequence in batch_]\n",
        "    )\n",
        "    decoder_inputs_, _ = batch(\n",
        "        [[EOS] + (sequence) for sequence in batch_]\n",
        "#         [[EOS] + [PAD]*len(sequence) for sequence in batch_] #Exercise 2\n",
        "    )\n",
        "    return {\n",
        "        encoder_inputs: encoder_inputs_,\n",
        "        decoder_inputs: decoder_inputs_,\n",
        "        decoder_targets: decoder_targets_,\n",
        "    }"
      ],
      "execution_count": 85,
      "outputs": []
    },
    {
      "metadata": {
        "id": "vyruTk4bcQJ5",
        "colab_type": "text"
      },
      "cell_type": "markdown",
      "source": [
        "Given encoder_inputs `[5, 6, 7]`, decoder_targets would be `[5, 6, 7, 1]`, where 1 is for `EOS`, and decoder_inputs would be `[1, 5, 6, 7]` - decoder_inputs are lagged by 1 step, passing previous token as input at current step."
      ]
    },
    {
      "metadata": {
        "id": "l80ObCQccQJ6",
        "colab_type": "code",
        "colab": {
          "base_uri": "https://localhost:8080/",
          "height": 17
        },
        "outputId": "b8116368-3249-4f6c-ef56-54e4e7bef646"
      },
      "cell_type": "code",
      "source": [
        "loss_track = []"
      ],
      "execution_count": 86,
      "outputs": []
    },
    {
      "metadata": {
        "id": "v_Z3Q1HNcQJ_",
        "colab_type": "code",
        "colab": {
          "base_uri": "https://localhost:8080/",
          "height": 833
        },
        "outputId": "7f9c4347-4afd-4fd9-dbbe-2e46c9ff8a43"
      },
      "cell_type": "code",
      "source": [
        "max_batches = 3001\n",
        "batches_in_epoch = 1000\n",
        "\n",
        "try:\n",
        "    for b in range(max_batches):\n",
        "        fd = next_feed()\n",
        "        _, l = sess.run([train_op, loss], fd)\n",
        "        loss_track.append(l)\n",
        "\n",
        "        if b == 0 or b % batches_in_epoch == 0:\n",
        "            print('batch {}'.format(b))\n",
        "            print('  minibatch loss: {}'.format(sess.run(loss, fd)))\n",
        "            predict_ = sess.run(decoder_prediction, fd)\n",
        "            for i, (inp, pred) in enumerate(zip(fd[encoder_inputs].T, predict_.T)):\n",
        "                print('  sample {}:'.format(i + 1))\n",
        "                print('    input     > {}'.format(inp))\n",
        "                print('    predicted > {}'.format(pred))\n",
        "                if i >= 2:\n",
        "                    break\n",
        "            print()\n",
        "except KeyboardInterrupt:\n",
        "    print('training interrupted')"
      ],
      "execution_count": 88,
      "outputs": [
        {
          "output_type": "stream",
          "text": [
            "batch 0\n",
            "  minibatch loss: 2.2912185192108154\n",
            "  sample 1:\n",
            "    input     > [5 6 7 8 0 0 0 0]\n",
            "    predicted > [2 0 0 8 1 6 6 6 6]\n",
            "  sample 2:\n",
            "    input     > [9 6 6 7 8 9 0 0]\n",
            "    predicted > [2 2 2 2 2 2 2 1 6]\n",
            "  sample 3:\n",
            "    input     > [7 3 4 9 4 8 0 0]\n",
            "    predicted > [2 8 2 0 2 2 2 1 6]\n",
            "\n",
            "batch 1000\n",
            "  minibatch loss: 0.3089908957481384\n",
            "  sample 1:\n",
            "    input     > [9 8 5 8 6 0 0 0]\n",
            "    predicted > [9 8 5 8 6 1 0 0 0]\n",
            "  sample 2:\n",
            "    input     > [7 9 6 3 6 9 9 7]\n",
            "    predicted > [9 9 6 3 9 9 9 7 1]\n",
            "  sample 3:\n",
            "    input     > [2 2 5 0 0 0 0 0]\n",
            "    predicted > [2 2 5 1 0 0 0 0 0]\n",
            "\n",
            "batch 2000\n",
            "  minibatch loss: 0.1560526341199875\n",
            "  sample 1:\n",
            "    input     > [5 5 5 0 0 0 0 0]\n",
            "    predicted > [5 5 5 1 0 0 0 0 0]\n",
            "  sample 2:\n",
            "    input     > [8 8 3 5 4 2 0 0]\n",
            "    predicted > [8 8 3 5 4 2 1 0 0]\n",
            "  sample 3:\n",
            "    input     > [5 3 7 7 9 0 0 0]\n",
            "    predicted > [5 7 7 7 9 1 0 0 0]\n",
            "\n",
            "batch 3000\n",
            "  minibatch loss: 0.10474955290555954\n",
            "  sample 1:\n",
            "    input     > [8 9 6 7 0 0 0 0]\n",
            "    predicted > [8 9 6 7 1 0 0 0 0]\n",
            "  sample 2:\n",
            "    input     > [3 5 3 8 4 0 0 0]\n",
            "    predicted > [3 5 3 8 4 1 0 0 0]\n",
            "  sample 3:\n",
            "    input     > [3 6 3 0 0 0 0 0]\n",
            "    predicted > [3 6 3 1 0 0 0 0 0]\n",
            "\n"
          ],
          "name": "stdout"
        }
      ]
    },
    {
      "metadata": {
        "id": "xA5iSyshcQKH",
        "colab_type": "code",
        "colab": {
          "base_uri": "https://localhost:8080/",
          "height": 282
        },
        "outputId": "af835ae2-0f37-4090-d82d-38c10e98e52e"
      },
      "cell_type": "code",
      "source": [
        "%matplotlib inline\n",
        "import matplotlib.pyplot as plt\n",
        "plt.plot(loss_track)\n",
        "print('loss {:.4f} after {} examples (batch_size={})'.format(loss_track[-1], len(loss_track)*batch_size, batch_size))"
      ],
      "execution_count": 102,
      "outputs": [
        {
          "output_type": "stream",
          "text": [
            "loss 0.1106 after 300100 examples (batch_size=100)\n"
          ],
          "name": "stdout"
        },
        {
          "output_type": "display_data",
          "data": {
            "image/png": "[encoded data removed]",
            "text/plain": [
              "<matplotlib.figure.Figure at 0x7f02899681d0>"
            ]
          },
          "metadata": {
            "tags": []
          }
        }
      ]
    },
    {
      "metadata": {
        "id": "bP6rFfHFcQKL",
        "colab_type": "text"
      },
      "cell_type": "markdown",
      "source": [
        "Something is definitely getting learned."
      ]
    },
    {
      "metadata": {
        "id": "UalEBYLicQKN",
        "colab_type": "text"
      },
      "cell_type": "markdown",
      "source": [
        "# Limitations of the model\n",
        "\n",
        "We have no control over transitions of `tf.nn.dynamic_rnn`, it is unrolled in a single sweep. Some of the things that are not possible without such control:\n",
        "\n",
        "- We can't feed previously generated tokens without falling back to Python loops. This means *we cannot make efficient inference with dynamic_rnn decoder*!\n",
        "\n",
        "- We can't use attention, because attention conditions decoder inputs on its previous state\n",
        "\n",
        "Solution would be to use `tf.nn.raw_rnn` instead of `tf.nn.dynamic_rnn` for decoder, as we will do in tutorial #2. "
      ]
    },
    {
      "metadata": {
        "id": "GaWXrCfYcQKP",
        "colab_type": "text"
      },
      "cell_type": "markdown",
      "source": [
        "# Fun things to try (aka Exercises)\n",
        "\n",
        "- In `copy_task` increasing `max_sequence_size` and `vocab_upper`. Observe slower learning and general performance degradation.\n",
        "\n",
        "- For `decoder_inputs`, instead of shifted target sequence `[<EOS> W X Y Z]`, try feeding `[<EOS> <PAD> <PAD> <PAD>]`, like we've done when we tested forward pass. Does it break things? Or slows learning?"
      ]
    },
    {
      "metadata": {
        "id": "_bYIKgBJBqQm",
        "colab_type": "code",
        "colab": {}
      },
      "cell_type": "code",
      "source": [
        ""
      ],
      "execution_count": 0,
      "outputs": []
    }
  ]
}