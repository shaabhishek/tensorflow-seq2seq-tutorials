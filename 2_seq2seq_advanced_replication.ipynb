{
  "nbformat": 4,
  "nbformat_minor": 0,
  "metadata": {
    "colab": {
      "name": "2-seq2seq-advanced-replication.ipynb",
      "version": "0.3.2",
      "provenance": [],
      "collapsed_sections": []
    },
    "kernelspec": {
      "name": "python3",
      "display_name": "Python 3"
    }
  },
  "cells": [
    {
      "metadata": {
        "id": "OLjccoUWzjBA",
        "colab_type": "code",
        "colab": {}
      },
      "cell_type": "code",
      "source": [
        "#Helpers\n",
        "import numpy as np\n",
        "\n",
        "def batch(inputs, max_sequence_length=None):\n",
        "    \"\"\"\n",
        "    Args:\n",
        "        inputs:\n",
        "            list of sentences (integer lists)\n",
        "        max_sequence_length:\n",
        "            integer specifying how large should `max_time` dimension be.\n",
        "            If None, maximum sequence length would be used\n",
        "    \n",
        "    Outputs:\n",
        "        inputs_time_major:\n",
        "            input sentences transformed into time-major matrix \n",
        "            (shape [max_time, batch_size]) padded with 0s\n",
        "        sequence_lengths:\n",
        "            batch-sized list of integers specifying amount of active \n",
        "            time steps in each input sequence\n",
        "    \"\"\"\n",
        "    \n",
        "    sequence_lengths = [len(seq) for seq in inputs]\n",
        "    batch_size = len(inputs)\n",
        "    \n",
        "    if max_sequence_length is None:\n",
        "        max_sequence_length = max(sequence_lengths)\n",
        "    \n",
        "    inputs_batch_major = np.zeros(shape=[batch_size, max_sequence_length], dtype=np.int32) # == PAD\n",
        "    \n",
        "    for i, seq in enumerate(inputs):\n",
        "        for j, element in enumerate(seq):\n",
        "            inputs_batch_major[i, j] = element\n",
        "\n",
        "    # [batch_size, max_time] -> [max_time, batch_size]\n",
        "    inputs_time_major = inputs_batch_major.swapaxes(0, 1)\n",
        "\n",
        "    return inputs_time_major, sequence_lengths\n",
        "  \n",
        "  \n",
        "def random_sequences(length_from, length_to, vocab_lower, vocab_upper, batch_size):\n",
        "  \"\"\" Generates batches of random integer sequences,\n",
        "          sequence length in [length_from, length_to],\n",
        "          vocabulary in [vocab_lower, vocab_upper]\n",
        "  \"\"\"\n",
        "  if length_from > length_to:\n",
        "    raise ValueError('length_from > length_to')\n",
        "\n",
        "  def random_length():\n",
        "      if length_from == length_to:\n",
        "          return length_from\n",
        "      return np.random.randint(length_from, length_to + 1)\n",
        "\n",
        "  while True:\n",
        "      yield [\n",
        "          np.random.randint(low=vocab_lower,\n",
        "                            high=vocab_upper,\n",
        "                            size=random_length()).tolist()\n",
        "          for _ in range(batch_size)\n",
        "      ]"
      ],
      "execution_count": 0,
      "outputs": []
    },
    {
      "metadata": {
        "id": "dgGijyJFzj5V",
        "colab_type": "code",
        "colab": {}
      },
      "cell_type": "code",
      "source": [
        "import numpy as np\n",
        "import tensorflow as tf\n",
        "\n",
        "tf.reset_default_graph()\n",
        "# sess = tf.InteractiveSession()\n",
        "sess = tf.Session()"
      ],
      "execution_count": 0,
      "outputs": []
    },
    {
      "metadata": {
        "id": "VsvPojug7Tt_",
        "colab_type": "text"
      },
      "cell_type": "markdown",
      "source": [
        "Setting up inputs"
      ]
    },
    {
      "metadata": {
        "id": "BRSOgLHs1T1w",
        "colab_type": "code",
        "colab": {}
      },
      "cell_type": "code",
      "source": [
        "PAD = 0\n",
        "EOS = 1\n",
        "\n",
        "encoder_hidden_units = 20\n",
        "decoder_hidden_units = encoder_hidden_units * 2 #Why x2? Because decoder state takes in encoder states for forward and backward passes concatenated (each 20)\n",
        "\n",
        "vocab_size = 22 # 20 words + EOS + PAD\n",
        "input_embedding_size = 20"
      ],
      "execution_count": 0,
      "outputs": []
    },
    {
      "metadata": {
        "id": "L6V3gGpR23GQ",
        "colab_type": "code",
        "colab": {}
      },
      "cell_type": "code",
      "source": [
        "encoder_inputs = tf.placeholder(tf.int32, shape=(None, None), name='encoder_inputs') #shape will be (max_time x batch_size) which will be inferred from the input\n",
        "encoder_inputs_length = tf.placeholder(tf.int32, shape=(None,), name='encoder_inputs_length') #shape will be (batch_size x 1)\n",
        "\n",
        "decoder_targets = tf.placeholder(tf.int32, shape=(None,None), name='decoder_targets') #shape will be (max_time+(some extra space) x batch_size)"
      ],
      "execution_count": 0,
      "outputs": []
    },
    {
      "metadata": {
        "id": "1yqAFy40321P",
        "colab_type": "code",
        "colab": {}
      },
      "cell_type": "code",
      "source": [
        "embeddings = tf.Variable(tf.random_uniform(shape=(vocab_size, input_embedding_size), minval=-1.0, maxval=1.0), dtype=tf.float32) #embedding maps vocab-ranged input to embedding-ranged output\n",
        "encoder_inputs_embedded = tf.nn.embedding_lookup(embeddings, encoder_inputs) # Get embedded inputs that really go into the encoder"
      ],
      "execution_count": 0,
      "outputs": []
    },
    {
      "metadata": {
        "id": "7-pXV6uD7S98",
        "colab_type": "text"
      },
      "cell_type": "markdown",
      "source": [
        "Setting up the model"
      ]
    },
    {
      "metadata": {
        "id": "NZH_dQby5wnP",
        "colab_type": "code",
        "colab": {}
      },
      "cell_type": "code",
      "source": [
        "from tensorflow.contrib.rnn import LSTMCell, LSTMStateTuple #LSTMCell is the class to generate each cell, LSTMStateTuple will be used to combine forward and backward states"
      ],
      "execution_count": 0,
      "outputs": []
    },
    {
      "metadata": {
        "id": "zVquHeBBOm_G",
        "colab_type": "text"
      },
      "cell_type": "markdown",
      "source": [
        "Setup Encoder"
      ]
    },
    {
      "metadata": {
        "id": "93txmdRn7q5M",
        "colab_type": "code",
        "colab": {}
      },
      "cell_type": "code",
      "source": [
        "encoder_cell = LSTMCell(encoder_hidden_units)"
      ],
      "execution_count": 0,
      "outputs": []
    },
    {
      "metadata": {
        "id": "swoKcVsh88rp",
        "colab_type": "text"
      },
      "cell_type": "markdown",
      "source": [
        "`tf.nn.bidirectional_dynamic_rnn` returns:\n",
        "\n",
        "A tuple (outputs, output_states) where:\n",
        "    outputs: A tuple (output_fw, output_bw) containing the forward and\n",
        "      the backward rnn output `Tensor`.\n",
        "      \n",
        "      If time_major == False (default), output_fw will be a `Tensor` shaped: `[batch_size, max_time, cell_fw.output_size]` and output_bw will be a `Tensor` shaped: `[batch_size, max_time, cell_bw.output_size]`.\n",
        "      \n",
        "      If time_major == True, output_fw will be a `Tensor` shaped: `[max_time, batch_size, cell_fw.output_size]` and output_bw will be a `Tensor` shaped: `[max_time, batch_size, cell_bw.output_size]`.\n",
        "      \n",
        "      It returns a tuple instead of a single concatenated `Tensor`, unlike in the `bidirectional_rnn`. If the concatenated one is preferred, the forward and backward outputs can be concatenated as `tf.concat(outputs, 2)`."
      ]
    },
    {
      "metadata": {
        "id": "Wvg0kTo98Gjr",
        "colab_type": "code",
        "colab": {}
      },
      "cell_type": "code",
      "source": [
        "((encoder_output_fw,\n",
        "  encoder_output_bw),\n",
        " (encoder_final_state_fw,\n",
        "  encoder_final_state_bw)) = tf.nn.bidirectional_dynamic_rnn(cell_fw=encoder_cell,\n",
        "                                                      cell_bw=encoder_cell,\n",
        "                                                      inputs=encoder_inputs_embedded,\n",
        "                                                      sequence_length=encoder_inputs_length,\n",
        "                                                      time_major=True,\n",
        "                                                      dtype=tf.float32)"
      ],
      "execution_count": 0,
      "outputs": []
    },
    {
      "metadata": {
        "id": "ttLqGXt7-Gmm",
        "colab_type": "code",
        "colab": {
          "base_uri": "https://localhost:8080/",
          "height": 51
        },
        "outputId": "b0682e27-5239-4f64-ed8e-0488fa0108ec"
      },
      "cell_type": "code",
      "source": [
        "encoder_output_fw, encoder_output_bw #shape is (max_time x batch_size x hidden_units)"
      ],
      "execution_count": 307,
      "outputs": [
        {
          "output_type": "execute_result",
          "data": {
            "text/plain": [
              "(<tf.Tensor 'bidirectional_rnn/fw/fw/TensorArrayStack/TensorArrayGatherV3:0' shape=(?, ?, 20) dtype=float32>,\n",
              " <tf.Tensor 'ReverseSequence:0' shape=(?, ?, 20) dtype=float32>)"
            ]
          },
          "metadata": {
            "tags": []
          },
          "execution_count": 307
        }
      ]
    },
    {
      "metadata": {
        "id": "PEHvktkv-mgF",
        "colab_type": "code",
        "colab": {
          "base_uri": "https://localhost:8080/",
          "height": 51
        },
        "outputId": "196e7b2d-2e3a-4056-b493-b64dde298a70"
      },
      "cell_type": "code",
      "source": [
        "encoder_final_state_fw.c, encoder_final_state_fw.h #shape is (batch_size x hidden_units)"
      ],
      "execution_count": 308,
      "outputs": [
        {
          "output_type": "execute_result",
          "data": {
            "text/plain": [
              "(<tf.Tensor 'bidirectional_rnn/fw/fw/while/Exit_3:0' shape=(?, 20) dtype=float32>,\n",
              " <tf.Tensor 'bidirectional_rnn/fw/fw/while/Exit_4:0' shape=(?, 20) dtype=float32>)"
            ]
          },
          "metadata": {
            "tags": []
          },
          "execution_count": 308
        }
      ]
    },
    {
      "metadata": {
        "id": "SMWUWeNj_Obu",
        "colab_type": "text"
      },
      "cell_type": "markdown",
      "source": [
        "We concatenate forward and backward outputs and forward and backward states"
      ]
    },
    {
      "metadata": {
        "id": "r5-Q2g9g-9Xe",
        "colab_type": "code",
        "colab": {}
      },
      "cell_type": "code",
      "source": [
        "encoder_outputs = tf.concat((encoder_output_fw, encoder_output_bw), axis=2) #concat along axis containing the hidden units' size\n",
        "\n",
        "encoder_final_state_c = tf.concat((encoder_final_state_fw.c, encoder_final_state_bw.c), axis=1) #concat along axis containing the hidden units' size\n",
        "encoder_final_state_h = tf.concat((encoder_final_state_fw.h, encoder_final_state_bw.h), axis=1)\n",
        "\n",
        "encoder_final_state = LSTMStateTuple(c=encoder_final_state_c, h=encoder_final_state_h)\n"
      ],
      "execution_count": 0,
      "outputs": []
    },
    {
      "metadata": {
        "id": "OFNnDTbUFTtW",
        "colab_type": "code",
        "colab": {
          "base_uri": "https://localhost:8080/",
          "height": 68
        },
        "outputId": "216cfb08-9723-4421-c813-89941af58667"
      },
      "cell_type": "code",
      "source": [
        "tf.trainable_variables()"
      ],
      "execution_count": 310,
      "outputs": [
        {
          "output_type": "execute_result",
          "data": {
            "text/plain": [
              "[<tf.Variable 'Variable:0' shape=(22, 20) dtype=float32_ref>,\n",
              " <tf.Variable 'bidirectional_rnn/fw/lstm_cell/kernel:0' shape=(40, 80) dtype=float32_ref>,\n",
              " <tf.Variable 'bidirectional_rnn/fw/lstm_cell/bias:0' shape=(80,) dtype=float32_ref>]"
            ]
          },
          "metadata": {
            "tags": []
          },
          "execution_count": 310
        }
      ]
    },
    {
      "metadata": {
        "id": "omnPXmUaOisB",
        "colab_type": "text"
      },
      "cell_type": "markdown",
      "source": [
        "Set up the decoder"
      ]
    },
    {
      "metadata": {
        "id": "6XpZJ6c3FU9j",
        "colab_type": "code",
        "colab": {}
      },
      "cell_type": "code",
      "source": [
        "decoder_cell = LSTMCell(decoder_hidden_units)"
      ],
      "execution_count": 0,
      "outputs": []
    },
    {
      "metadata": {
        "id": "--8ZvWs2PAQC",
        "colab_type": "code",
        "colab": {}
      },
      "cell_type": "code",
      "source": [
        "encoder_max_time, batch_size = tf.unstack(tf.shape(encoder_inputs))\n",
        "\n",
        "decoder_lengths = encoder_inputs_length + 3 # +2 for additional steps, +1 for EOS"
      ],
      "execution_count": 0,
      "outputs": []
    },
    {
      "metadata": {
        "id": "bj_0WZDlR-LK",
        "colab_type": "code",
        "colab": {}
      },
      "cell_type": "code",
      "source": [
        "eos_time_slice = tf.tile([EOS], [batch_size], name=\"EOS\")\n",
        "pad_time_slice = tf.tile([PAD], [batch_size], name=\"PAD\")\n",
        "\n",
        "eos_step_embedded = tf.nn.embedding_lookup(embeddings, eos_time_slice)\n",
        "pad_step_embedded = tf.nn.embedding_lookup(embeddings, pad_time_slice)"
      ],
      "execution_count": 0,
      "outputs": []
    },
    {
      "metadata": {
        "id": "9xiYUN4Dj5cW",
        "colab_type": "code",
        "colab": {}
      },
      "cell_type": "code",
      "source": [
        "W = tf.Variable(tf.random_uniform((decoder_hidden_units, vocab_size), -1, 1), dtype=tf.float32)\n",
        "b = tf.Variable(tf.zeros((vocab_size)), dtype=tf.float32)"
      ],
      "execution_count": 0,
      "outputs": []
    },
    {
      "metadata": {
        "id": "2f2ocYLQR-Hk",
        "colab_type": "code",
        "colab": {
          "base_uri": "https://localhost:8080/",
          "height": 34
        },
        "outputId": "25bcd4e5-287c-445f-9821-ae0fd41bbdba"
      },
      "cell_type": "code",
      "source": [
        "# help(tf.nn.raw_rnn)\n",
        "decoder_cell.trainable_variables"
      ],
      "execution_count": 315,
      "outputs": [
        {
          "output_type": "execute_result",
          "data": {
            "text/plain": [
              "[]"
            ]
          },
          "metadata": {
            "tags": []
          },
          "execution_count": 315
        }
      ]
    },
    {
      "metadata": {
        "id": "xllkz1piU9zr",
        "colab_type": "code",
        "colab": {}
      },
      "cell_type": "code",
      "source": [
        "def init_loop_transition():\n",
        "  elements_finished = (0 >= decoder_lengths)\n",
        "  next_input = eos_step_embedded\n",
        "  next_cell_state = encoder_final_state\n",
        "  cell_output = None #There was no output in previous state as this is the first cell\n",
        "  next_loop_state = None #Not passing additional info currently\n",
        "  return (elements_finished, next_input, next_cell_state, cell_output, next_loop_state)\n",
        "\n",
        "def loop_transition(time, previous_output, previous_cell_state, previous_loop_state):\n",
        "  def get_next_input():\n",
        "    output_logits = tf.add(tf.matmul(previous_output, W), b)\n",
        "    prediction = tf.argmax(output_logits, axis=1)\n",
        "    next_input = tf.nn.embedding_lookup(embeddings, prediction)\n",
        "    return next_input\n",
        "  \n",
        "  elements_finished = (time >= decoder_lengths)\n",
        "  finished = tf.reduce_all(elements_finished)\n",
        "  \n",
        "  next_input = tf.cond(finished, lambda: pad_step_embedded, get_next_input) #If everything is done, then input is PAD, else input is previous cell's output\n",
        "  next_cell_state = previous_cell_state\n",
        "  next_output = previous_output\n",
        "  next_loop_state = None #Not passing additional info\n",
        "  return (elements_finished, next_input, next_cell_state, next_output, next_loop_state)\n",
        "\n",
        "def loop_fn(time, previous_output, previous_state, previous_loop_state):\n",
        "  if previous_state is None and previous_output is None:\n",
        "    return init_loop_transition()\n",
        "  else:\n",
        "    return loop_transition(time, previous_output, previous_state, previous_loop_state)"
      ],
      "execution_count": 0,
      "outputs": []
    },
    {
      "metadata": {
        "id": "j6I3klvIm8qF",
        "colab_type": "code",
        "colab": {}
      },
      "cell_type": "code",
      "source": [
        "# tf.trainable_variables(), encoder_final_state"
      ],
      "execution_count": 0,
      "outputs": []
    },
    {
      "metadata": {
        "id": "4mtINEGXUIfc",
        "colab_type": "code",
        "colab": {}
      },
      "cell_type": "code",
      "source": [
        "decoder_outputs_ta, final_state, final_loop_state = tf.nn.raw_rnn(cell=decoder_cell, loop_fn=loop_fn)"
      ],
      "execution_count": 0,
      "outputs": []
    },
    {
      "metadata": {
        "id": "4CGMigxd2hXx",
        "colab_type": "code",
        "colab": {}
      },
      "cell_type": "code",
      "source": [
        "decoder_outputs = decoder_outputs_ta.stack()"
      ],
      "execution_count": 0,
      "outputs": []
    },
    {
      "metadata": {
        "id": "d2DvBxN2-Hvn",
        "colab_type": "code",
        "colab": {
          "base_uri": "https://localhost:8080/",
          "height": 34
        },
        "outputId": "6c7a8b96-f49f-4487-b408-b3cd726898c8"
      },
      "cell_type": "code",
      "source": [
        "decoder_outputs"
      ],
      "execution_count": 320,
      "outputs": [
        {
          "output_type": "execute_result",
          "data": {
            "text/plain": [
              "<tf.Tensor 'TensorArrayStack/TensorArrayGatherV3:0' shape=(?, ?, 40) dtype=float32>"
            ]
          },
          "metadata": {
            "tags": []
          },
          "execution_count": 320
        }
      ]
    },
    {
      "metadata": {
        "id": "WjGlD8eYPbqL",
        "colab_type": "code",
        "colab": {}
      },
      "cell_type": "code",
      "source": [
        "decoder_max_steps, decoder_batch_size, decoder_units = tf.unstack(tf.shape(decoder_outputs))\n",
        "decoder_outputs_flat = tf.reshape(decoder_outputs, (-1, decoder_units)) #W is decoder_units x vocab_size\n",
        "decoder_logits_flat = tf.add(tf.matmul(decoder_outputs_flat, W), b) #resultant shape = ((decoder_max_steps*batch_size) x vocab_size)\n",
        "decoder_logits = tf.reshape(decoder_logits_flat, (decoder_max_steps, decoder_batch_size, vocab_size)) #resultant shape = (decoder_max_steps x batch_size)"
      ],
      "execution_count": 0,
      "outputs": []
    },
    {
      "metadata": {
        "id": "A1K5WktEQwap",
        "colab_type": "code",
        "colab": {}
      },
      "cell_type": "code",
      "source": [
        "decoder_prediction = tf.argmax(decoder_logits, axis=2) #get the chosen word for each time and for each batch"
      ],
      "execution_count": 0,
      "outputs": []
    },
    {
      "metadata": {
        "id": "XfQLNp48_-yf",
        "colab_type": "text"
      },
      "cell_type": "markdown",
      "source": [
        "Setup Optimizer"
      ]
    },
    {
      "metadata": {
        "id": "1nnNO-ShAK7d",
        "colab_type": "code",
        "colab": {}
      },
      "cell_type": "code",
      "source": [
        "crossentropy = tf.nn.softmax_cross_entropy_with_logits_v2(labels=tf.one_hot(decoder_targets, depth=vocab_size, dtype=tf.float32),\n",
        "                                                          logits=decoder_logits) #output shape = max_time x batch_size\n",
        "\n",
        "## One option is to take the mean of crossentropy, which means dividing by max_len*batch_size.\n",
        "## TensorFlow seq2seq tutorial suggests using batch_size only is better\n",
        "loss = tf.reduce_sum(tf.div(crossentropy, tf.cast(batch_size, tf.float32))) \n",
        "optimizer = tf.train.AdamOptimizer().minimize(loss)"
      ],
      "execution_count": 0,
      "outputs": []
    },
    {
      "metadata": {
        "id": "_Cv2VQfLByUs",
        "colab_type": "code",
        "colab": {}
      },
      "cell_type": "code",
      "source": [
        "sess.run(tf.global_variables_initializer())"
      ],
      "execution_count": 0,
      "outputs": []
    },
    {
      "metadata": {
        "id": "IWIfhnQs_9D3",
        "colab_type": "code",
        "colab": {
          "base_uri": "https://localhost:8080/",
          "height": 204
        },
        "outputId": "91e35aad-4e7a-4137-f45f-e009d95e3c3e"
      },
      "cell_type": "code",
      "source": [
        "batch_size = 100\n",
        "\n",
        "batches = random_sequences(length_from=3, length_to=15,\n",
        "                                   vocab_lower=2, vocab_upper=20,\n",
        "                                   batch_size=batch_size)\n",
        "\n",
        "print('head of the batch:')\n",
        "for seq in next(batches)[:10]:\n",
        "    print(seq)"
      ],
      "execution_count": 325,
      "outputs": [
        {
          "output_type": "stream",
          "text": [
            "head of the batch:\n",
            "[4, 4, 13, 3, 8, 15, 9, 8, 15, 19, 8]\n",
            "[7, 5, 2, 12, 13, 15, 5, 13, 17, 7]\n",
            "[19, 14, 11, 6, 9]\n",
            "[18, 12, 8, 3, 11, 10, 4, 10, 11, 2, 15, 14, 15]\n",
            "[13, 15, 19, 5, 7, 16, 15, 5, 10]\n",
            "[14, 19, 11, 6, 5, 13, 2, 14, 12, 4]\n",
            "[7, 18, 8, 18, 19, 9, 7, 6, 15, 18]\n",
            "[4, 12, 14, 5, 5, 7, 5, 16, 18, 12]\n",
            "[2, 3, 16, 12, 12, 19, 7, 4, 12, 16, 7]\n",
            "[10, 8, 14, 5, 11, 16]\n"
          ],
          "name": "stdout"
        }
      ]
    },
    {
      "metadata": {
        "id": "ZU-9oLXsBanZ",
        "colab_type": "code",
        "colab": {}
      },
      "cell_type": "code",
      "source": [
        "def next_feed():\n",
        "    batch_ = next(batches)\n",
        "    encoder_inputs_, encoder_input_lengths_ = batch(batch_)\n",
        "    decoder_targets_, _ = batch(\n",
        "        [(sequence) + [EOS] + [PAD] * 2 for sequence in batch_]\n",
        "    )\n",
        "    return {\n",
        "        encoder_inputs: encoder_inputs_,\n",
        "        encoder_inputs_length: encoder_input_lengths_,\n",
        "        decoder_targets: decoder_targets_,\n",
        "    }"
      ],
      "execution_count": 0,
      "outputs": []
    },
    {
      "metadata": {
        "id": "V4zw0qGUBcar",
        "colab_type": "code",
        "colab": {}
      },
      "cell_type": "code",
      "source": [
        "loss_track = []"
      ],
      "execution_count": 0,
      "outputs": []
    },
    {
      "metadata": {
        "id": "0dI7z6KbBktE",
        "colab_type": "code",
        "colab": {
          "base_uri": "https://localhost:8080/",
          "height": 833
        },
        "outputId": "373845ee-841a-4bab-9a15-41baeeaa9e12"
      },
      "cell_type": "code",
      "source": [
        "max_batches = 3001\n",
        "batches_in_epoch = 1000\n",
        "\n",
        "try:\n",
        "    for b in range(max_batches):\n",
        "        fd = next_feed()\n",
        "        _, l = sess.run([optimizer, loss], fd)\n",
        "        loss_track.append(l)\n",
        "\n",
        "        if b == 0 or b % batches_in_epoch == 0:\n",
        "            print('batch {}'.format(b))\n",
        "            print('  minibatch loss: {}'.format(sess.run(loss, fd)))\n",
        "            predict_ = sess.run(decoder_prediction, fd)\n",
        "            for i, (inp, pred) in enumerate(zip(fd[encoder_inputs].T, predict_.T)):\n",
        "                print('  sample {}:'.format(i + 1))\n",
        "                print('    input     > {}'.format(inp))\n",
        "                print('    predicted > {}'.format(pred))\n",
        "                if i >= 2:\n",
        "                    break\n",
        "            print()\n",
        "\n",
        "except KeyboardInterrupt:\n",
        "    print('training interrupted')"
      ],
      "execution_count": 328,
      "outputs": [
        {
          "output_type": "stream",
          "text": [
            "batch 0\n",
            "  minibatch loss: 56.312461853027344\n",
            "  sample 1:\n",
            "    input     > [18  9  2 13 16 14  8 19 12 12  9 10 19  0  0]\n",
            "    predicted > [ 9  9  9  0  0 21 21  5  5  5 18  9  9 20 20 20  0  0]\n",
            "  sample 2:\n",
            "    input     > [14  4  3 15 18  0  0  0  0  0  0  0  0  0  0]\n",
            "    predicted > [18 18  2 18 18  9  9 20  0  0  0  0  0  0  0  0  0  0]\n",
            "  sample 3:\n",
            "    input     > [15 17  5  9  0  0  0  0  0  0  0  0  0  0  0]\n",
            "    predicted > [14 14  9  9 14 14  9  0  0  0  0  0  0  0  0  0  0  0]\n",
            "\n",
            "batch 1000\n",
            "  minibatch loss: 27.00274658203125\n",
            "  sample 1:\n",
            "    input     > [12 18 11 15  2 14 17 13  5 19  0  0  0  0  0]\n",
            "    predicted > [12 12  2 12 19 19 19 19 19 19  1  0  0  0  0  0  0  0]\n",
            "  sample 2:\n",
            "    input     > [ 8  7  4  3 11 13  7  2  2 10  3 16 15 19  5]\n",
            "    predicted > [ 7 13  2  2  2 10 10  5  5  5  5  5 15 19 19  1  0  0]\n",
            "  sample 3:\n",
            "    input     > [14 18 11 11 19 12 11  2 14  6 17 17 13  0  0]\n",
            "    predicted > [11 14 11 11 11 11 11 14 17  6 17 17  1  0  0  0  0  0]\n",
            "\n",
            "batch 2000\n",
            "  minibatch loss: 17.01559829711914\n",
            "  sample 1:\n",
            "    input     > [ 4 14  3 16 19 12 19  0  0  0  0  0  0  0  0]\n",
            "    predicted > [ 4  3 12 19 19 19 19  1  0  0  0  0  0  0  0  0  0  0]\n",
            "  sample 2:\n",
            "    input     > [ 9 11 19  6 12 11 16  4  0  0  0  0  0  0  0]\n",
            "    predicted > [11 11 11 11 11  4  4  4  1  0  0  0  0  0  0  0  0  0]\n",
            "  sample 3:\n",
            "    input     > [11 13 19  6  9  4 18 13 15 14  0  0  0  0  0]\n",
            "    predicted > [11 11 19  6 19  6 18  6  6  6  1  0  0  0  0  0  0  0]\n",
            "\n",
            "batch 3000\n",
            "  minibatch loss: 17.590782165527344\n",
            "  sample 1:\n",
            "    input     > [4 7 8 5 0 0 0 0 0 0 0 0 0 0 0]\n",
            "    predicted > [4 8 5 5 1 0 0 0 0 0 0 0 0 0 0 0 0 0]\n",
            "  sample 2:\n",
            "    input     > [15  8  6  4 19  5 11  0  0  0  0  0  0  0  0]\n",
            "    predicted > [15  8  6  8  5  5 11  1  0  0  0  0  0  0  0  0  0  0]\n",
            "  sample 3:\n",
            "    input     > [ 7  9  5 16 11 19  5 16 12  7  0  0  0  0  0]\n",
            "    predicted > [ 7 16 16  5  5 19 16 19  7  7  1  0  0  0  0  0  0  0]\n",
            "\n"
          ],
          "name": "stdout"
        }
      ]
    },
    {
      "metadata": {
        "id": "CKiEhJ80BmCc",
        "colab_type": "code",
        "colab": {
          "base_uri": "https://localhost:8080/",
          "height": 282
        },
        "outputId": "bf505c94-70ae-4110-f5f5-fe77cf81ccdd"
      },
      "cell_type": "code",
      "source": [
        "%matplotlib inline\n",
        "import matplotlib.pyplot as plt\n",
        "plt.plot(loss_track)\n",
        "print('loss {:.4f} after {} examples (batch_size={})'.format(loss_track[-1], len(loss_track)*batch_size, batch_size))"
      ],
      "execution_count": 329,
      "outputs": [
        {
          "output_type": "stream",
          "text": [
            "loss 17.6785 after 300100 examples (batch_size=100)\n"
          ],
          "name": "stdout"
        },
        {
          "output_type": "display_data",
          "data": {
            "image/png": "[encoded data removed]",
            "text/plain": [
              "<matplotlib.figure.Figure at 0x7f5ef721dac8>"
            ]
          },
          "metadata": {
            "tags": []
          }
        }
      ]
    },
    {
      "metadata": {
        "id": "hAr12UtPCf2S",
        "colab_type": "code",
        "colab": {}
      },
      "cell_type": "code",
      "source": [
        ""
      ],
      "execution_count": 0,
      "outputs": []
    }
  ]
}