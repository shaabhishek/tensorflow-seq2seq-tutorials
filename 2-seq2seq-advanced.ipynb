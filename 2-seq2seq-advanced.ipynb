{
  "nbformat": 4,
  "nbformat_minor": 0,
  "metadata": {
    "colab": {
      "name": "2-seq2seq-advanced.ipynb",
      "version": "0.3.2",
      "provenance": []
    },
    "kernelspec": {
      "display_name": "Python 3",
      "language": "python",
      "name": "python3"
    }
  },
  "cells": [
    {
      "metadata": {
        "id": "r1SkzCGfBzqj",
        "colab_type": "text"
      },
      "cell_type": "markdown",
      "source": [
        "# Advanced dynamic seq2seq with TensorFlow"
      ]
    },
    {
      "metadata": {
        "id": "pekfqWQgBzqm",
        "colab_type": "text"
      },
      "cell_type": "markdown",
      "source": [
        "Encoder is bidirectional now. Decoder is implemented using `tf.nn.raw_rnn`. \n",
        "It feeds previously generated tokens during training as inputs, instead of target sequence."
      ]
    },
    {
      "metadata": {
        "id": "dqaUKGreBzqo",
        "colab_type": "text"
      },
      "cell_type": "markdown",
      "source": [
        "**UPDATE (16.02.2017)**: I learned some things after I wrote this tutorial. In particular:\n",
        " - [DONE] Replacing projection (one-hot encoding followed by linear layer) with embedding (indexing weights of linear layer directly) is more efficient.\n",
        " - When decoding, feeding previously generated tokens as inputs adds robustness to model's errors. However feeding ground truth speeds up training. Apperantly best practice is to mix both randomly when training.\n",
        "\n",
        "I will update tutorial to reflect this at some point."
      ]
    },
    {
      "metadata": {
        "id": "sxKcIzSjDxeW",
        "colab_type": "code",
        "colab": {
          "base_uri": "https://localhost:8080/",
          "height": 17
        },
        "outputId": "223f7c70-6ae7-47cf-b174-6c8abc44c9ed"
      },
      "cell_type": "code",
      "source": [
        "#Helpers\n",
        "import numpy as np\n",
        "\n",
        "def batch(inputs, max_sequence_length=None):\n",
        "    \"\"\"\n",
        "    Args:\n",
        "        inputs:\n",
        "            list of sentences (integer lists)\n",
        "        max_sequence_length:\n",
        "            integer specifying how large should `max_time` dimension be.\n",
        "            If None, maximum sequence length would be used\n",
        "    \n",
        "    Outputs:\n",
        "        inputs_time_major:\n",
        "            input sentences transformed into time-major matrix \n",
        "            (shape [max_time, batch_size]) padded with 0s\n",
        "        sequence_lengths:\n",
        "            batch-sized list of integers specifying amount of active \n",
        "            time steps in each input sequence\n",
        "    \"\"\"\n",
        "    \n",
        "    sequence_lengths = [len(seq) for seq in inputs]\n",
        "    batch_size = len(inputs)\n",
        "    \n",
        "    if max_sequence_length is None:\n",
        "        max_sequence_length = max(sequence_lengths)\n",
        "    \n",
        "    inputs_batch_major = np.zeros(shape=[batch_size, max_sequence_length], dtype=np.int32) # == PAD\n",
        "    \n",
        "    for i, seq in enumerate(inputs):\n",
        "        for j, element in enumerate(seq):\n",
        "            inputs_batch_major[i, j] = element\n",
        "\n",
        "    # [batch_size, max_time] -> [max_time, batch_size]\n",
        "    inputs_time_major = inputs_batch_major.swapaxes(0, 1)\n",
        "\n",
        "    return inputs_time_major, sequence_lengths\n",
        "  \n",
        "  \n",
        "def random_sequences(length_from, length_to, vocab_lower, vocab_upper, batch_size):\n",
        "  \"\"\" Generates batches of random integer sequences,\n",
        "          sequence length in [length_from, length_to],\n",
        "          vocabulary in [vocab_lower, vocab_upper]\n",
        "  \"\"\"\n",
        "  if length_from > length_to:\n",
        "    raise ValueError('length_from > length_to')\n",
        "\n",
        "  def random_length():\n",
        "      if length_from == length_to:\n",
        "          return length_from\n",
        "      return np.random.randint(length_from, length_to + 1)\n",
        "\n",
        "  while True:\n",
        "      yield [\n",
        "          np.random.randint(low=vocab_lower,\n",
        "                            high=vocab_upper,\n",
        "                            size=random_length()).tolist()\n",
        "          for _ in range(batch_size)\n",
        "      ]"
      ],
      "execution_count": 1,
      "outputs": []
    },
    {
      "metadata": {
        "id": "_rV12UKHBzqp",
        "colab_type": "code",
        "colab": {
          "base_uri": "https://localhost:8080/",
          "height": 17
        },
        "outputId": "acf29c2a-dc2e-4067-c0c3-7140f064edc5"
      },
      "cell_type": "code",
      "source": [
        "import numpy as np\n",
        "import tensorflow as tf\n",
        "# import helpers\n",
        "\n",
        "tf.reset_default_graph()\n",
        "sess = tf.InteractiveSession()"
      ],
      "execution_count": 3,
      "outputs": []
    },
    {
      "metadata": {
        "id": "KSvFygiSBzqv",
        "colab_type": "code",
        "colab": {
          "base_uri": "https://localhost:8080/",
          "height": 34
        },
        "outputId": "940e7d27-5cb4-49af-8ad1-96188b0bcd79"
      },
      "cell_type": "code",
      "source": [
        "tf.__version__"
      ],
      "execution_count": 4,
      "outputs": [
        {
          "output_type": "execute_result",
          "data": {
            "text/plain": [
              "'1.9.0-rc2'"
            ]
          },
          "metadata": {
            "tags": []
          },
          "execution_count": 4
        }
      ]
    },
    {
      "metadata": {
        "id": "bzg-tzWOBzq5",
        "colab_type": "code",
        "colab": {
          "base_uri": "https://localhost:8080/",
          "height": 17
        },
        "outputId": "aca1bdf1-562b-491b-f1d3-7973ba435df4"
      },
      "cell_type": "code",
      "source": [
        "PAD = 0\n",
        "EOS = 1\n",
        "\n",
        "vocab_size = 10\n",
        "input_embedding_size = 20\n",
        "\n",
        "encoder_hidden_units = 20\n",
        "decoder_hidden_units = encoder_hidden_units * 2"
      ],
      "execution_count": 5,
      "outputs": []
    },
    {
      "metadata": {
        "id": "w8pzqmykBzq9",
        "colab_type": "code",
        "colab": {
          "base_uri": "https://localhost:8080/",
          "height": 17
        },
        "outputId": "2fab06ee-acff-407b-e4e7-14d2ecf072fc"
      },
      "cell_type": "code",
      "source": [
        "encoder_inputs = tf.placeholder(shape=(None, None), dtype=tf.int32, name='encoder_inputs')\n",
        "encoder_inputs_length = tf.placeholder(shape=(None,), dtype=tf.int32, name='encoder_inputs_length')\n",
        "\n",
        "decoder_targets = tf.placeholder(shape=(None, None), dtype=tf.int32, name='decoder_targets')"
      ],
      "execution_count": 6,
      "outputs": []
    },
    {
      "metadata": {
        "id": "IJuMKRo0BzrA",
        "colab_type": "text"
      },
      "cell_type": "markdown",
      "source": [
        "Previously we elected to manually feed `decoder_inputs` to better understand what is going on. Here we implement decoder with `tf.nn.raw_rnn` and will construct `decoder_inputs` step by step in the loop."
      ]
    },
    {
      "metadata": {
        "id": "xf6IWegQBzrB",
        "colab_type": "text"
      },
      "cell_type": "markdown",
      "source": [
        "## Embeddings\n",
        "Setup embeddings (see tutorial 1)"
      ]
    },
    {
      "metadata": {
        "id": "GdciYXGQBzrC",
        "colab_type": "code",
        "colab": {
          "base_uri": "https://localhost:8080/",
          "height": 17
        },
        "outputId": "27b4aa9d-6590-4e83-cc08-2b6948f22eb4"
      },
      "cell_type": "code",
      "source": [
        "embeddings = tf.Variable(tf.random_uniform([vocab_size, input_embedding_size], -1.0, 1.0), dtype=tf.float32)\n",
        "\n",
        "encoder_inputs_embedded = tf.nn.embedding_lookup(embeddings, encoder_inputs)"
      ],
      "execution_count": 7,
      "outputs": []
    },
    {
      "metadata": {
        "id": "SeEy02NIBzrG",
        "colab_type": "text"
      },
      "cell_type": "markdown",
      "source": [
        "## Encoder\n",
        "\n",
        "We are replacing unidirectional `tf.nn.dynamic_rnn` with `tf.nn.bidirectional_dynamic_rnn` as the encoder.\n"
      ]
    },
    {
      "metadata": {
        "id": "F2X3LZRLBzrJ",
        "colab_type": "code",
        "colab": {
          "base_uri": "https://localhost:8080/",
          "height": 17
        },
        "outputId": "d351aa7a-1c7c-4eeb-f854-ec0362c081cc"
      },
      "cell_type": "code",
      "source": [
        "from tensorflow.contrib.rnn import LSTMCell, LSTMStateTuple"
      ],
      "execution_count": 8,
      "outputs": []
    },
    {
      "metadata": {
        "id": "v06NuqokBzrO",
        "colab_type": "code",
        "colab": {
          "base_uri": "https://localhost:8080/",
          "height": 17
        },
        "outputId": "a84265ad-3118-4095-f12e-527433d67747"
      },
      "cell_type": "code",
      "source": [
        "encoder_cell = LSTMCell(encoder_hidden_units)"
      ],
      "execution_count": 9,
      "outputs": []
    },
    {
      "metadata": {
        "id": "nXsuttHFBzrT",
        "colab_type": "code",
        "colab": {
          "base_uri": "https://localhost:8080/",
          "height": 139
        },
        "outputId": "12256900-89dd-4c63-fc5d-fe4be9126f22"
      },
      "cell_type": "code",
      "source": [
        "((encoder_fw_outputs,\n",
        "  encoder_bw_outputs),\n",
        " (encoder_fw_final_state,\n",
        "  encoder_bw_final_state)) = (\n",
        "    tf.nn.bidirectional_dynamic_rnn(cell_fw=encoder_cell,\n",
        "                                    cell_bw=encoder_cell,\n",
        "                                    inputs=encoder_inputs_embedded,\n",
        "                                    sequence_length=encoder_inputs_length,\n",
        "                                    dtype=tf.float32, time_major=True)\n",
        "    )"
      ],
      "execution_count": 10,
      "outputs": [
        {
          "output_type": "stream",
          "text": [
            "WARNING:tensorflow:From /usr/local/lib/python3.6/dist-packages/tensorflow/python/ops/rnn.py:417: calling reverse_sequence (from tensorflow.python.ops.array_ops) with seq_dim is deprecated and will be removed in a future version.\n",
            "Instructions for updating:\n",
            "seq_dim is deprecated, use seq_axis instead\n",
            "WARNING:tensorflow:From /usr/local/lib/python3.6/dist-packages/tensorflow/python/util/deprecation.py:432: calling reverse_sequence (from tensorflow.python.ops.array_ops) with batch_dim is deprecated and will be removed in a future version.\n",
            "Instructions for updating:\n",
            "batch_dim is deprecated, use batch_axis instead\n"
          ],
          "name": "stdout"
        }
      ]
    },
    {
      "metadata": {
        "id": "pFRuemECBzra",
        "colab_type": "code",
        "colab": {
          "base_uri": "https://localhost:8080/",
          "height": 34
        },
        "outputId": "d853f4b0-1164-4b05-994f-3392b0c130c6"
      },
      "cell_type": "code",
      "source": [
        "encoder_fw_outputs"
      ],
      "execution_count": 11,
      "outputs": [
        {
          "output_type": "execute_result",
          "data": {
            "text/plain": [
              "<tf.Tensor 'bidirectional_rnn/fw/fw/TensorArrayStack/TensorArrayGatherV3:0' shape=(?, ?, 20) dtype=float32>"
            ]
          },
          "metadata": {
            "tags": []
          },
          "execution_count": 11
        }
      ]
    },
    {
      "metadata": {
        "id": "SdUvTh35Bzre",
        "colab_type": "code",
        "colab": {
          "base_uri": "https://localhost:8080/",
          "height": 34
        },
        "outputId": "2ebfaf5c-f95f-43dd-aea1-9671daf49081"
      },
      "cell_type": "code",
      "source": [
        "encoder_bw_outputs"
      ],
      "execution_count": 12,
      "outputs": [
        {
          "output_type": "execute_result",
          "data": {
            "text/plain": [
              "<tf.Tensor 'ReverseSequence:0' shape=(?, ?, 20) dtype=float32>"
            ]
          },
          "metadata": {
            "tags": []
          },
          "execution_count": 12
        }
      ]
    },
    {
      "metadata": {
        "id": "hrppyaqxBzrh",
        "colab_type": "code",
        "colab": {
          "base_uri": "https://localhost:8080/",
          "height": 54
        },
        "outputId": "bd6fb333-acbd-45cd-d879-0d1525512cb1"
      },
      "cell_type": "code",
      "source": [
        "encoder_fw_final_state"
      ],
      "execution_count": 13,
      "outputs": [
        {
          "output_type": "execute_result",
          "data": {
            "text/plain": [
              "LSTMStateTuple(c=<tf.Tensor 'bidirectional_rnn/fw/fw/while/Exit_3:0' shape=(?, 20) dtype=float32>, h=<tf.Tensor 'bidirectional_rnn/fw/fw/while/Exit_4:0' shape=(?, 20) dtype=float32>)"
            ]
          },
          "metadata": {
            "tags": []
          },
          "execution_count": 13
        }
      ]
    },
    {
      "metadata": {
        "id": "deGMSsPIBzrm",
        "colab_type": "code",
        "colab": {
          "base_uri": "https://localhost:8080/",
          "height": 54
        },
        "outputId": "c75c464c-186a-4991-f487-809760e94bb7"
      },
      "cell_type": "code",
      "source": [
        "encoder_bw_final_state"
      ],
      "execution_count": 14,
      "outputs": [
        {
          "output_type": "execute_result",
          "data": {
            "text/plain": [
              "LSTMStateTuple(c=<tf.Tensor 'bidirectional_rnn/bw/bw/while/Exit_3:0' shape=(?, 20) dtype=float32>, h=<tf.Tensor 'bidirectional_rnn/bw/bw/while/Exit_4:0' shape=(?, 20) dtype=float32>)"
            ]
          },
          "metadata": {
            "tags": []
          },
          "execution_count": 14
        }
      ]
    },
    {
      "metadata": {
        "id": "Rpxyy1v2Bzrr",
        "colab_type": "text"
      },
      "cell_type": "markdown",
      "source": [
        "Have to concatenate forward and backward outputs and state. In this case we will not discard outputs, they would be used for attention."
      ]
    },
    {
      "metadata": {
        "id": "Hkam-Z4sBzrs",
        "colab_type": "code",
        "colab": {
          "base_uri": "https://localhost:8080/",
          "height": 17
        },
        "outputId": "fc482a6a-e4b0-4407-d796-eacc799d048e"
      },
      "cell_type": "code",
      "source": [
        "encoder_outputs = tf.concat((encoder_fw_outputs, encoder_bw_outputs), 2)\n",
        "\n",
        "encoder_final_state_c = tf.concat(\n",
        "    (encoder_fw_final_state.c, encoder_bw_final_state.c), 1)\n",
        "\n",
        "encoder_final_state_h = tf.concat(\n",
        "    (encoder_fw_final_state.h, encoder_bw_final_state.h), 1)\n",
        "\n",
        "encoder_final_state = LSTMStateTuple(\n",
        "    c=encoder_final_state_c,\n",
        "    h=encoder_final_state_h\n",
        ")"
      ],
      "execution_count": 15,
      "outputs": []
    },
    {
      "metadata": {
        "id": "xIYzkNo7Bzru",
        "colab_type": "text"
      },
      "cell_type": "markdown",
      "source": [
        "## Decoder"
      ]
    },
    {
      "metadata": {
        "id": "CAe2xtsyBzrw",
        "colab_type": "code",
        "colab": {
          "base_uri": "https://localhost:8080/",
          "height": 17
        },
        "outputId": "60785752-d3ac-4b0c-bf71-b2b31a1fd8fa"
      },
      "cell_type": "code",
      "source": [
        "decoder_cell = LSTMCell(decoder_hidden_units)"
      ],
      "execution_count": 20,
      "outputs": []
    },
    {
      "metadata": {
        "id": "u84lnYTtBzrz",
        "colab_type": "text"
      },
      "cell_type": "markdown",
      "source": [
        "Time and batch dimensions are dynamic, i.e. they can change in runtime, from batch to batch"
      ]
    },
    {
      "metadata": {
        "id": "gg8RVEFPBzr0",
        "colab_type": "code",
        "colab": {
          "base_uri": "https://localhost:8080/",
          "height": 17
        },
        "outputId": "c66c4600-0e44-4244-d03d-d5ebd1e7d803"
      },
      "cell_type": "code",
      "source": [
        "encoder_max_time, batch_size = tf.unstack(tf.shape(encoder_inputs))"
      ],
      "execution_count": 23,
      "outputs": []
    },
    {
      "metadata": {
        "id": "WAf3zDbIBzr5",
        "colab_type": "text"
      },
      "cell_type": "markdown",
      "source": [
        "Next we need to decide how far to run decoder. There are several options for stopping criteria:\n",
        "- Stop after specified number of unrolling steps\n",
        "- Stop after model produced <EOS> token\n",
        "\n",
        "The choice will likely be time-dependant. In legacy `translate` tutorial we can see that decoder unrolls for `len(encoder_input)+10` to allow for possibly longer translated sequence. Here we are doing a toy copy task, so how about we unroll decoder for `len(encoder_input)+2`, to allow model some room to make mistakes over 2 additional steps:"
      ]
    },
    {
      "metadata": {
        "id": "FNKv4XEMBzr7",
        "colab_type": "code",
        "colab": {
          "base_uri": "https://localhost:8080/",
          "height": 17
        },
        "outputId": "d58b1bce-8520-4357-9f0b-38495e63469c"
      },
      "cell_type": "code",
      "source": [
        "decoder_lengths = encoder_inputs_length + 3\n",
        "# +2 additional steps, +1 leading <EOS> token for decoder inputs"
      ],
      "execution_count": 24,
      "outputs": []
    },
    {
      "metadata": {
        "id": "tA23pGmNBzr_",
        "colab_type": "text"
      },
      "cell_type": "markdown",
      "source": [
        "## Output projection\n",
        "\n",
        "Decoder will contain manually specified by us transition step:\n",
        "```\n",
        "output(t) -> output projection(t) -> prediction(t) (argmax) -> input embedding(t+1) -> input(t+1)\n",
        "```\n",
        "\n",
        "In tutorial 1, we used `tf.contrib.layers.linear` layer to initialize weights and biases and apply operation for us. This is convenient, however now we need to specify parameters `W` and `b`  of the output layer in global scope, and apply them at every step of the decoder."
      ]
    },
    {
      "metadata": {
        "id": "JL7xCipSBzsC",
        "colab_type": "code",
        "colab": {
          "base_uri": "https://localhost:8080/",
          "height": 17
        },
        "outputId": "12e74b97-89be-4b84-c62b-7aaf5c586fc9"
      },
      "cell_type": "code",
      "source": [
        "W = tf.Variable(tf.random_uniform([decoder_hidden_units, vocab_size], -1, 1), dtype=tf.float32)\n",
        "b = tf.Variable(tf.zeros([vocab_size]), dtype=tf.float32)"
      ],
      "execution_count": 29,
      "outputs": []
    },
    {
      "metadata": {
        "id": "3hNwf3pGBzsE",
        "colab_type": "text"
      },
      "cell_type": "markdown",
      "source": [
        "## Decoder via `tf.nn.raw_rnn`\n",
        "\n",
        "`tf.nn.dynamic_rnn` allows for easy RNN construction, but is limited. \n",
        "\n",
        "For example, a nice way to increase robustness of the model is to feed as decoder inputs tokens that it previously generated, instead of shifted true sequence.\n",
        "\n",
        "![seq2seq-feed-previous](https://github.com/shaabhishek/tensorflow-seq2seq-tutorials/blob/master/pictures/2-seq2seq-feed-previous.png?raw=1)\n",
        "*Image borrowed from http://www.wildml.com/2016/04/deep-learning-for-chatbots-part-1-introduction/*"
      ]
    },
    {
      "metadata": {
        "id": "U4gDpn85BzsF",
        "colab_type": "text"
      },
      "cell_type": "markdown",
      "source": [
        "First prepare tokens. Decoder would operate on column vectors of shape `(batch_size,)` representing single time steps of the batch."
      ]
    },
    {
      "metadata": {
        "id": "On5r0YtXBzsG",
        "colab_type": "code",
        "colab": {
          "base_uri": "https://localhost:8080/",
          "height": 17
        },
        "outputId": "47ee5dae-59d4-4ec9-8582-d2858871b8e9"
      },
      "cell_type": "code",
      "source": [
        "assert EOS == 1 and PAD == 0\n",
        "\n",
        "eos_time_slice = tf.ones([batch_size], dtype=tf.int32, name='EOS')\n",
        "pad_time_slice = tf.zeros([batch_size], dtype=tf.int32, name='PAD')\n",
        "\n",
        "eos_step_embedded = tf.nn.embedding_lookup(embeddings, eos_time_slice)\n",
        "pad_step_embedded = tf.nn.embedding_lookup(embeddings, pad_time_slice)"
      ],
      "execution_count": 25,
      "outputs": []
    },
    {
      "metadata": {
        "id": "M_Wy7seCBzsN",
        "colab_type": "text"
      },
      "cell_type": "markdown",
      "source": [
        "Now for the tricky part.\n",
        "\n",
        "Remember that standard `tf.nn.dynamic_rnn` requires all inputs `(t, ..., t+n)` be passed in advance as a single tensor. \"Dynamic\" part of its name refers to the fact that `n` can change from batch to batch.\n",
        "\n",
        "Now, what if we want to implement more complex mechanic like when we want decoder to receive previously generated tokens as input at every timestamp (instead of lagged target sequence)? Or when we want to implement soft attention, where at every timestep we add additional fixed-len representation, derived from query produced by previous step's hidden state? `tf.nn.raw_rnn` is a way to solve this problem.\n",
        "\n",
        "Main part of specifying RNN with `tf.nn.raw_rnn` is *loop transition function*. It defines inputs of step `t` given outputs and state of step `t-1`.\n",
        "\n",
        "Loop transition function is a mapping `(time, previous_cell_output, previous_cell_state, previous_loop_state) -> (elements_finished, input, cell_state, output, loop_state)`. It is called *before* RNNCell to prepare its inputs and state. Everything is a Tensor except for initial call at time=0 when everything is `None` (except `time`).\n",
        "\n",
        "Note that decoder inputs are returned from the transition function but passed into it. You are supposed to index inputs manually using `time` Tensor."
      ]
    },
    {
      "metadata": {
        "id": "WkKShY05BzsP",
        "colab_type": "text"
      },
      "cell_type": "markdown",
      "source": [
        "Loop transition function is called two times:\n",
        " 1. Initial call at time=0 to provide initial cell_state and input to RNN.\n",
        " 2. Transition call for all following timesteps where you define transition between two adjacent steps.\n",
        "\n",
        "Lets define both cases separately."
      ]
    },
    {
      "metadata": {
        "id": "cJ98hd8oBzsP",
        "colab_type": "text"
      },
      "cell_type": "markdown",
      "source": [
        "Loop initial state is function of only `encoder_final_state` and embeddings:"
      ]
    },
    {
      "metadata": {
        "id": "u5r1TTvvBzsQ",
        "colab_type": "code",
        "colab": {
          "base_uri": "https://localhost:8080/",
          "height": 17
        },
        "outputId": "f6c6e3f1-d8a9-43ac-ce3b-2094db762286"
      },
      "cell_type": "code",
      "source": [
        "def loop_fn_initial():\n",
        "    initial_elements_finished = (0 >= decoder_lengths)  # all False at the initial step\n",
        "    initial_input = eos_step_embedded\n",
        "    initial_cell_state = encoder_final_state\n",
        "    initial_cell_output = None\n",
        "    initial_loop_state = None  # we don't need to pass any additional information\n",
        "    return (initial_elements_finished,\n",
        "            initial_input,\n",
        "            initial_cell_state,\n",
        "            initial_cell_output,\n",
        "            initial_loop_state)"
      ],
      "execution_count": 30,
      "outputs": []
    },
    {
      "metadata": {
        "id": "-CFFrPwvBzsS",
        "colab_type": "text"
      },
      "cell_type": "markdown",
      "source": [
        "Define transition function such that previously generated token (as judged in greedy manner by `argmax` over output projection) is passed as next input."
      ]
    },
    {
      "metadata": {
        "id": "bLuC8yO9BzsT",
        "colab_type": "code",
        "colab": {
          "base_uri": "https://localhost:8080/",
          "height": 17
        },
        "outputId": "19d9f1ca-2ec8-45cb-fbfc-2cca02bda593"
      },
      "cell_type": "code",
      "source": [
        "def loop_fn_transition(time, previous_output, previous_state, previous_loop_state):\n",
        "\n",
        "    def get_next_input():\n",
        "        output_logits = tf.add(tf.matmul(previous_output, W), b)\n",
        "        prediction = tf.argmax(output_logits, axis=1)\n",
        "        next_input = tf.nn.embedding_lookup(embeddings, prediction)\n",
        "        return next_input\n",
        "    \n",
        "    elements_finished = (time >= decoder_lengths) # this operation produces boolean tensor of [batch_size]\n",
        "                                                  # defining if corresponding sequence has ended\n",
        "\n",
        "    finished = tf.reduce_all(elements_finished) # -> boolean scalar\n",
        "    input = tf.cond(finished, lambda: pad_step_embedded, get_next_input)\n",
        "    state = previous_state\n",
        "    output = previous_output\n",
        "    loop_state = None\n",
        "\n",
        "    return (elements_finished, \n",
        "            input,\n",
        "            state,\n",
        "            output,\n",
        "            loop_state)"
      ],
      "execution_count": 31,
      "outputs": []
    },
    {
      "metadata": {
        "id": "DXxANVOYBzsV",
        "colab_type": "text"
      },
      "cell_type": "markdown",
      "source": [
        "Combine initializer and transition functions and create raw_rnn.\n",
        "\n",
        "Note that while all operations above are defined with TF's control flow and reduction ops, here we rely on checking if state is `None` to determine if it is an initializer call or transition call. This is not very clean API and might be changed in the future (indeed, `tf.nn.raw_rnn`'s doc contains warning that API is experimental)."
      ]
    },
    {
      "metadata": {
        "id": "WkbA4JerBzsV",
        "colab_type": "code",
        "colab": {
          "base_uri": "https://localhost:8080/",
          "height": 17
        },
        "outputId": "b51ab7e6-07c7-43f8-82c7-c38e5e5d4e87"
      },
      "cell_type": "code",
      "source": [
        "def loop_fn(time, previous_output, previous_state, previous_loop_state):\n",
        "    if previous_state is None:    # time == 0\n",
        "        assert previous_output is None and previous_state is None\n",
        "        return loop_fn_initial()\n",
        "    else:\n",
        "        return loop_fn_transition(time, previous_output, previous_state, previous_loop_state)\n",
        "\n",
        "decoder_outputs_ta, decoder_final_state, _ = tf.nn.raw_rnn(decoder_cell, loop_fn)\n",
        "decoder_outputs = decoder_outputs_ta.stack()"
      ],
      "execution_count": 32,
      "outputs": []
    },
    {
      "metadata": {
        "id": "h3aLjerXBzsZ",
        "colab_type": "code",
        "colab": {
          "base_uri": "https://localhost:8080/",
          "height": 34
        },
        "outputId": "94792dc5-fdfd-48d3-fbf6-3ac3aa5ac340"
      },
      "cell_type": "code",
      "source": [
        "decoder_outputs"
      ],
      "execution_count": 37,
      "outputs": [
        {
          "output_type": "execute_result",
          "data": {
            "text/plain": [
              "<tf.Tensor 'TensorArrayStack/TensorArrayGatherV3:0' shape=(?, ?, 40) dtype=float32>"
            ]
          },
          "metadata": {
            "tags": []
          },
          "execution_count": 37
        }
      ]
    },
    {
      "metadata": {
        "id": "BSSZcvqCBzse",
        "colab_type": "text"
      },
      "cell_type": "markdown",
      "source": [
        "To do output projection, we have to temporarilly flatten `decoder_outputs` from `[max_steps, batch_size, hidden_dim]` to `[max_steps*batch_size, hidden_dim]`, as `tf.matmul` needs rank-2 tensors at most."
      ]
    },
    {
      "metadata": {
        "id": "fILhjvxVBzse",
        "colab_type": "code",
        "colab": {
          "base_uri": "https://localhost:8080/",
          "height": 17
        },
        "outputId": "b9a5f853-c324-417e-85f4-d5b9bb187363"
      },
      "cell_type": "code",
      "source": [
        "decoder_max_steps, decoder_batch_size, decoder_dim = tf.unstack(tf.shape(decoder_outputs))\n",
        "decoder_outputs_flat = tf.reshape(decoder_outputs, (-1, decoder_dim))\n",
        "decoder_logits_flat = tf.add(tf.matmul(decoder_outputs_flat, W), b)\n",
        "decoder_logits = tf.reshape(decoder_logits_flat, (decoder_max_steps, decoder_batch_size, vocab_size))"
      ],
      "execution_count": 38,
      "outputs": []
    },
    {
      "metadata": {
        "id": "QatpNLGqBzsh",
        "colab_type": "code",
        "colab": {
          "base_uri": "https://localhost:8080/",
          "height": 17
        },
        "outputId": "f8f2c18d-1965-4587-9673-bbea516eeab7"
      },
      "cell_type": "code",
      "source": [
        "decoder_prediction = tf.argmax(decoder_logits, 2)"
      ],
      "execution_count": 39,
      "outputs": []
    },
    {
      "metadata": {
        "id": "14qBWoEHBzsl",
        "colab_type": "text"
      },
      "cell_type": "markdown",
      "source": [
        "### Optimizer"
      ]
    },
    {
      "metadata": {
        "id": "VQk_lTyCBzsm",
        "colab_type": "text"
      },
      "cell_type": "markdown",
      "source": [
        "RNN outputs tensor of shape `[max_time, batch_size, hidden_units]` which projection layer maps onto `[max_time, batch_size, vocab_size]`. `vocab_size` part of the shape is static, while `max_time` and `batch_size` is dynamic."
      ]
    },
    {
      "metadata": {
        "id": "zrc1OHQpBzsn",
        "colab_type": "code",
        "colab": {
          "base_uri": "https://localhost:8080/",
          "height": 17
        },
        "outputId": "ca9e9b00-28a0-4c95-ee19-b522d0761c70"
      },
      "cell_type": "code",
      "source": [
        "stepwise_cross_entropy = tf.nn.softmax_cross_entropy_with_logits_v2(\n",
        "    labels=tf.one_hot(decoder_targets, depth=vocab_size, dtype=tf.float32),\n",
        "    logits=decoder_logits,\n",
        ")\n",
        "\n",
        "loss = tf.reduce_mean(stepwise_cross_entropy)\n",
        "train_op = tf.train.AdamOptimizer().minimize(loss)"
      ],
      "execution_count": 41,
      "outputs": []
    },
    {
      "metadata": {
        "id": "ug148i0DBzsr",
        "colab_type": "code",
        "colab": {
          "base_uri": "https://localhost:8080/",
          "height": 17
        },
        "outputId": "5891baeb-7283-4431-d4a4-b811dcb0bd47"
      },
      "cell_type": "code",
      "source": [
        "sess.run(tf.global_variables_initializer())"
      ],
      "execution_count": 42,
      "outputs": []
    },
    {
      "metadata": {
        "id": "afYEpY-RBzst",
        "colab_type": "text"
      },
      "cell_type": "markdown",
      "source": [
        "## Training on the toy task"
      ]
    },
    {
      "metadata": {
        "id": "rlcfBx48Bzsu",
        "colab_type": "text"
      },
      "cell_type": "markdown",
      "source": [
        "Consider the copy task — given a random sequence of integers from a `vocabulary`, learn to memorize and reproduce input sequence. Because sequences are random, they do not contain any structure, unlike natural language."
      ]
    },
    {
      "metadata": {
        "id": "mx1DAkwvBzsv",
        "colab_type": "code",
        "colab": {
          "base_uri": "https://localhost:8080/",
          "height": 204
        },
        "outputId": "889baf93-bca6-41e7-aadb-b32e977727a1"
      },
      "cell_type": "code",
      "source": [
        "batch_size = 100\n",
        "\n",
        "batches = random_sequences(length_from=3, length_to=8,\n",
        "                                   vocab_lower=2, vocab_upper=10,\n",
        "                                   batch_size=batch_size)\n",
        "\n",
        "print('head of the batch:')\n",
        "for seq in next(batches)[:10]:\n",
        "    print(seq)"
      ],
      "execution_count": 44,
      "outputs": [
        {
          "output_type": "stream",
          "text": [
            "head of the batch:\n",
            "[4, 9, 6, 5, 8, 2, 7]\n",
            "[8, 4, 7, 5, 5, 7, 4, 8]\n",
            "[4, 2, 2, 6, 5, 4, 9, 5]\n",
            "[6, 2, 7, 8, 9]\n",
            "[9, 8, 5, 8]\n",
            "[9, 2, 2, 4]\n",
            "[6, 5, 6, 3, 6, 2, 3, 7]\n",
            "[7, 8, 7, 8, 6, 6, 9]\n",
            "[9, 5, 8, 3, 7, 3, 2, 6]\n",
            "[6, 2, 2, 8]\n"
          ],
          "name": "stdout"
        }
      ]
    },
    {
      "metadata": {
        "id": "Z2QdNOzTBzsy",
        "colab_type": "code",
        "colab": {
          "base_uri": "https://localhost:8080/",
          "height": 17
        },
        "outputId": "d1fb57df-5d8c-4e3b-b5ae-91c16d539e2e"
      },
      "cell_type": "code",
      "source": [
        "def next_feed():\n",
        "    batch_ = next(batches)\n",
        "    encoder_inputs_, encoder_input_lengths_ = batch(batch_)\n",
        "    decoder_targets_, _ = batch(\n",
        "        [(sequence) + [EOS] + [PAD] * 2 for sequence in batch_]\n",
        "    )\n",
        "    return {\n",
        "        encoder_inputs: encoder_inputs_,\n",
        "        encoder_inputs_length: encoder_input_lengths_,\n",
        "        decoder_targets: decoder_targets_,\n",
        "    }"
      ],
      "execution_count": 45,
      "outputs": []
    },
    {
      "metadata": {
        "id": "bzXEJ91MBzs0",
        "colab_type": "code",
        "colab": {
          "base_uri": "https://localhost:8080/",
          "height": 17
        },
        "outputId": "4d2258fd-abc6-4049-972d-61f077c62d3a"
      },
      "cell_type": "code",
      "source": [
        "loss_track = []"
      ],
      "execution_count": 46,
      "outputs": []
    },
    {
      "metadata": {
        "id": "8MCiv40EBzs2",
        "colab_type": "code",
        "colab": {
          "base_uri": "https://localhost:8080/",
          "height": 833
        },
        "outputId": "2e7caa17-7351-4359-a354-623522d3855b"
      },
      "cell_type": "code",
      "source": [
        "max_batches = 3001\n",
        "batches_in_epoch = 1000\n",
        "\n",
        "try:\n",
        "    for b in range(max_batches):\n",
        "        fd = next_feed()\n",
        "        _, l = sess.run([train_op, loss], fd)\n",
        "        loss_track.append(l)\n",
        "\n",
        "        if b == 0 or b % batches_in_epoch == 0:\n",
        "            print('batch {}'.format(b))\n",
        "            print('  minibatch loss: {}'.format(sess.run(loss, fd)))\n",
        "            predict_ = sess.run(decoder_prediction, fd)\n",
        "            for i, (inp, pred) in enumerate(zip(fd[encoder_inputs].T, predict_.T)):\n",
        "                print('  sample {}:'.format(i + 1))\n",
        "                print('    input     > {}'.format(inp))\n",
        "                print('    predicted > {}'.format(pred))\n",
        "                if i >= 2:\n",
        "                    break\n",
        "            print()\n",
        "\n",
        "except KeyboardInterrupt:\n",
        "    print('training interrupted')"
      ],
      "execution_count": 47,
      "outputs": [
        {
          "output_type": "stream",
          "text": [
            "batch 0\n",
            "  minibatch loss: 2.2935709953308105\n",
            "  sample 1:\n",
            "    input     > [9 8 2 9 6 0 0 0]\n",
            "    predicted > [6 2 2 3 2 2 0 2 0 0 0]\n",
            "  sample 2:\n",
            "    input     > [6 5 7 6 8 4 4 3]\n",
            "    predicted > [1 1 1 1 1 6 0 2 2 2 0]\n",
            "  sample 3:\n",
            "    input     > [9 9 3 8 4 0 0 0]\n",
            "    predicted > [1 1 6 6 2 0 2 2 0 0 0]\n",
            "\n",
            "batch 1000\n",
            "  minibatch loss: 0.5515618920326233\n",
            "  sample 1:\n",
            "    input     > [6 7 2 9 8 2 9 7]\n",
            "    predicted > [6 7 2 2 8 9 9 7 1 0 0]\n",
            "  sample 2:\n",
            "    input     > [9 2 8 5 6 3 8 0]\n",
            "    predicted > [9 2 6 8 6 3 8 1 0 0 0]\n",
            "  sample 3:\n",
            "    input     > [4 9 6 3 0 0 0 0]\n",
            "    predicted > [4 9 6 3 1 0 0 0 0 0 0]\n",
            "\n",
            "batch 2000\n",
            "  minibatch loss: 0.29586681723594666\n",
            "  sample 1:\n",
            "    input     > [5 4 7 4 2 5 8 0]\n",
            "    predicted > [5 4 4 7 2 5 8 1 0 0 0]\n",
            "  sample 2:\n",
            "    input     > [6 6 5 4 4 5 6 8]\n",
            "    predicted > [6 5 4 6 5 4 6 8 1 0 0]\n",
            "  sample 3:\n",
            "    input     > [9 7 8 7 3 5 0 0]\n",
            "    predicted > [9 7 8 7 3 5 1 0 0 0 0]\n",
            "\n",
            "batch 3000\n",
            "  minibatch loss: 0.1548067033290863\n",
            "  sample 1:\n",
            "    input     > [3 8 8 3 7 4 5 9]\n",
            "    predicted > [3 8 8 3 7 4 9 9 1 0 0]\n",
            "  sample 2:\n",
            "    input     > [5 7 9 6 7 3 2 0]\n",
            "    predicted > [5 9 7 6 3 3 2 1 0 0 0]\n",
            "  sample 3:\n",
            "    input     > [8 3 9 3 0 0 0 0]\n",
            "    predicted > [8 3 9 3 1 0 0 0 0 0 0]\n",
            "\n"
          ],
          "name": "stdout"
        }
      ]
    },
    {
      "metadata": {
        "id": "qqxSbMyGBzs6",
        "colab_type": "code",
        "colab": {
          "base_uri": "https://localhost:8080/",
          "height": 282
        },
        "outputId": "550338e4-115f-4a74-cca4-a8616ca4810e"
      },
      "cell_type": "code",
      "source": [
        "%matplotlib inline\n",
        "import matplotlib.pyplot as plt\n",
        "plt.plot(loss_track)\n",
        "print('loss {:.4f} after {} examples (batch_size={})'.format(loss_track[-1], len(loss_track)*batch_size, batch_size))"
      ],
      "execution_count": 48,
      "outputs": [
        {
          "output_type": "stream",
          "text": [
            "loss 0.1530 after 300100 examples (batch_size=100)\n"
          ],
          "name": "stdout"
        },
        {
          "output_type": "display_data",
          "data": {
            "image/png": "[encoded data removed]",
            "text/plain": [
              "<matplotlib.figure.Figure at 0x7ff61b95d2b0>"
            ]
          },
          "metadata": {
            "tags": []
          }
        }
      ]
    },
    {
      "metadata": {
        "id": "v460l-emTQK_",
        "colab_type": "code",
        "colab": {}
      },
      "cell_type": "code",
      "source": [
        ""
      ],
      "execution_count": 0,
      "outputs": []
    }
  ]
}